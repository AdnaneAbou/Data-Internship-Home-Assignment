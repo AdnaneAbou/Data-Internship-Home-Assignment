{
 "cells": [
  {
   "cell_type": "code",
   "execution_count": 15,
   "metadata": {},
   "outputs": [
    {
     "data": {
      "text/html": [
       "<div>\n",
       "<style scoped>\n",
       "    .dataframe tbody tr th:only-of-type {\n",
       "        vertical-align: middle;\n",
       "    }\n",
       "\n",
       "    .dataframe tbody tr th {\n",
       "        vertical-align: top;\n",
       "    }\n",
       "\n",
       "    .dataframe thead th {\n",
       "        text-align: right;\n",
       "    }\n",
       "</style>\n",
       "<table border=\"1\" class=\"dataframe\">\n",
       "  <thead>\n",
       "    <tr style=\"text-align: right;\">\n",
       "      <th></th>\n",
       "      <th>index</th>\n",
       "      <th>context</th>\n",
       "    </tr>\n",
       "  </thead>\n",
       "  <tbody>\n",
       "    <tr>\n",
       "      <th>0</th>\n",
       "      <td>0</td>\n",
       "      <td>{\"@context\": \"http://schema.org\", \"@type\": \"Jo...</td>\n",
       "    </tr>\n",
       "    <tr>\n",
       "      <th>1</th>\n",
       "      <td>1</td>\n",
       "      <td>{\"@context\": \"http://schema.org\", \"@type\": \"Jo...</td>\n",
       "    </tr>\n",
       "    <tr>\n",
       "      <th>2</th>\n",
       "      <td>2</td>\n",
       "      <td>{\"@context\": \"http://schema.org\", \"@type\": \"Jo...</td>\n",
       "    </tr>\n",
       "    <tr>\n",
       "      <th>3</th>\n",
       "      <td>3</td>\n",
       "      <td>{\"@context\": \"http://schema.org\", \"@type\": \"Jo...</td>\n",
       "    </tr>\n",
       "    <tr>\n",
       "      <th>4</th>\n",
       "      <td>4</td>\n",
       "      <td>{\"@context\": \"http://schema.org\", \"@type\": \"Jo...</td>\n",
       "    </tr>\n",
       "    <tr>\n",
       "      <th>5</th>\n",
       "      <td>5</td>\n",
       "      <td>{\"@context\": \"http://schema.org\", \"@type\": \"Jo...</td>\n",
       "    </tr>\n",
       "    <tr>\n",
       "      <th>6</th>\n",
       "      <td>6</td>\n",
       "      <td>{\"@context\": \"http://schema.org\", \"@type\": \"Jo...</td>\n",
       "    </tr>\n",
       "    <tr>\n",
       "      <th>7</th>\n",
       "      <td>7</td>\n",
       "      <td>{\"@context\": \"http://schema.org\", \"@type\": \"Jo...</td>\n",
       "    </tr>\n",
       "    <tr>\n",
       "      <th>8</th>\n",
       "      <td>8</td>\n",
       "      <td>{\"@context\": \"http://schema.org\", \"@type\": \"Jo...</td>\n",
       "    </tr>\n",
       "    <tr>\n",
       "      <th>9</th>\n",
       "      <td>9</td>\n",
       "      <td>{\"@context\": \"http://schema.org\", \"@type\": \"Jo...</td>\n",
       "    </tr>\n",
       "  </tbody>\n",
       "</table>\n",
       "</div>"
      ],
      "text/plain": [
       "   index                                            context\n",
       "0      0  {\"@context\": \"http://schema.org\", \"@type\": \"Jo...\n",
       "1      1  {\"@context\": \"http://schema.org\", \"@type\": \"Jo...\n",
       "2      2  {\"@context\": \"http://schema.org\", \"@type\": \"Jo...\n",
       "3      3  {\"@context\": \"http://schema.org\", \"@type\": \"Jo...\n",
       "4      4  {\"@context\": \"http://schema.org\", \"@type\": \"Jo...\n",
       "5      5  {\"@context\": \"http://schema.org\", \"@type\": \"Jo...\n",
       "6      6  {\"@context\": \"http://schema.org\", \"@type\": \"Jo...\n",
       "7      7  {\"@context\": \"http://schema.org\", \"@type\": \"Jo...\n",
       "8      8  {\"@context\": \"http://schema.org\", \"@type\": \"Jo...\n",
       "9      9  {\"@context\": \"http://schema.org\", \"@type\": \"Jo..."
      ]
     },
     "execution_count": 15,
     "metadata": {},
     "output_type": "execute_result"
    }
   ],
   "source": [
    "import pandas as pd \n",
    "\n",
    "data  = pd.read_csv('/mnt/c/Users/dell/Downloads/Tech-Projects-Portfolio/Data-Internship-Home-Assignment/source/jobs.csv')\n",
    "data.columns = ['index', 'context']\n",
    "data.head(10)"
   ]
  },
  {
   "cell_type": "code",
   "execution_count": 5,
   "metadata": {},
   "outputs": [
    {
     "data": {
      "text/plain": [
       "0       {\"@context\": \"http://schema.org\", \"@type\": \"Jo...\n",
       "1       {\"@context\": \"http://schema.org\", \"@type\": \"Jo...\n",
       "2       {\"@context\": \"http://schema.org\", \"@type\": \"Jo...\n",
       "3       {\"@context\": \"http://schema.org\", \"@type\": \"Jo...\n",
       "4       {\"@context\": \"http://schema.org\", \"@type\": \"Jo...\n",
       "                              ...                        \n",
       "8256    {\"@context\": \"http://schema.org\", \"@type\": \"Jo...\n",
       "8257    {\"@context\": \"http://schema.org\", \"@type\": \"Jo...\n",
       "8258    {\"@context\": \"http://schema.org\", \"@type\": \"Jo...\n",
       "8259                                                  NaN\n",
       "8260    {\"@context\": \"http://schema.org\", \"@type\": \"Jo...\n",
       "Name: context, Length: 8261, dtype: object"
      ]
     },
     "execution_count": 5,
     "metadata": {},
     "output_type": "execute_result"
    }
   ],
   "source": [
    "data['context']"
   ]
  },
  {
   "cell_type": "markdown",
   "metadata": {},
   "source": [
    "### Checking duplicates & Missing Values"
   ]
  },
  {
   "cell_type": "code",
   "execution_count": 16,
   "metadata": {},
   "outputs": [
    {
     "data": {
      "text/plain": [
       "0"
      ]
     },
     "execution_count": 16,
     "metadata": {},
     "output_type": "execute_result"
    }
   ],
   "source": [
    "data.duplicated().sum()"
   ]
  },
  {
   "cell_type": "code",
   "execution_count": 17,
   "metadata": {},
   "outputs": [
    {
     "data": {
      "text/plain": [
       "index        0\n",
       "context    576\n",
       "dtype: int64"
      ]
     },
     "execution_count": 17,
     "metadata": {},
     "output_type": "execute_result"
    }
   ],
   "source": [
    "data.isnull().sum()"
   ]
  },
  {
   "cell_type": "code",
   "execution_count": 18,
   "metadata": {},
   "outputs": [],
   "source": [
    "data.dropna(axis=0, inplace=True)"
   ]
  },
  {
   "cell_type": "code",
   "execution_count": 19,
   "metadata": {},
   "outputs": [
    {
     "data": {
      "text/plain": [
       "index      0\n",
       "context    0\n",
       "dtype: int64"
      ]
     },
     "execution_count": 19,
     "metadata": {},
     "output_type": "execute_result"
    }
   ],
   "source": [
    "data.isnull().sum()"
   ]
  },
  {
   "cell_type": "code",
   "execution_count": 11,
   "metadata": {},
   "outputs": [
    {
     "data": {
      "text/html": [
       "<div>\n",
       "<style scoped>\n",
       "    .dataframe tbody tr th:only-of-type {\n",
       "        vertical-align: middle;\n",
       "    }\n",
       "\n",
       "    .dataframe tbody tr th {\n",
       "        vertical-align: top;\n",
       "    }\n",
       "\n",
       "    .dataframe thead th {\n",
       "        text-align: right;\n",
       "    }\n",
       "</style>\n",
       "<table border=\"1\" class=\"dataframe\">\n",
       "  <thead>\n",
       "    <tr style=\"text-align: right;\">\n",
       "      <th></th>\n",
       "      <th>index</th>\n",
       "      <th>context</th>\n",
       "    </tr>\n",
       "  </thead>\n",
       "  <tbody>\n",
       "    <tr>\n",
       "      <th>0</th>\n",
       "      <td>0</td>\n",
       "      <td>{\"@context\": \"http://schema.org\", \"@type\": \"Jo...</td>\n",
       "    </tr>\n",
       "    <tr>\n",
       "      <th>1</th>\n",
       "      <td>1</td>\n",
       "      <td>{\"@context\": \"http://schema.org\", \"@type\": \"Jo...</td>\n",
       "    </tr>\n",
       "    <tr>\n",
       "      <th>2</th>\n",
       "      <td>2</td>\n",
       "      <td>{\"@context\": \"http://schema.org\", \"@type\": \"Jo...</td>\n",
       "    </tr>\n",
       "    <tr>\n",
       "      <th>3</th>\n",
       "      <td>3</td>\n",
       "      <td>{\"@context\": \"http://schema.org\", \"@type\": \"Jo...</td>\n",
       "    </tr>\n",
       "    <tr>\n",
       "      <th>4</th>\n",
       "      <td>4</td>\n",
       "      <td>{\"@context\": \"http://schema.org\", \"@type\": \"Jo...</td>\n",
       "    </tr>\n",
       "    <tr>\n",
       "      <th>...</th>\n",
       "      <td>...</td>\n",
       "      <td>...</td>\n",
       "    </tr>\n",
       "    <tr>\n",
       "      <th>8255</th>\n",
       "      <td>8255</td>\n",
       "      <td>{\"@context\": \"http://schema.org\", \"@type\": \"Jo...</td>\n",
       "    </tr>\n",
       "    <tr>\n",
       "      <th>8256</th>\n",
       "      <td>8256</td>\n",
       "      <td>{\"@context\": \"http://schema.org\", \"@type\": \"Jo...</td>\n",
       "    </tr>\n",
       "    <tr>\n",
       "      <th>8257</th>\n",
       "      <td>8257</td>\n",
       "      <td>{\"@context\": \"http://schema.org\", \"@type\": \"Jo...</td>\n",
       "    </tr>\n",
       "    <tr>\n",
       "      <th>8258</th>\n",
       "      <td>8258</td>\n",
       "      <td>{\"@context\": \"http://schema.org\", \"@type\": \"Jo...</td>\n",
       "    </tr>\n",
       "    <tr>\n",
       "      <th>8260</th>\n",
       "      <td>8260</td>\n",
       "      <td>{\"@context\": \"http://schema.org\", \"@type\": \"Jo...</td>\n",
       "    </tr>\n",
       "  </tbody>\n",
       "</table>\n",
       "<p>7685 rows × 2 columns</p>\n",
       "</div>"
      ],
      "text/plain": [
       "      index                                            context\n",
       "0         0  {\"@context\": \"http://schema.org\", \"@type\": \"Jo...\n",
       "1         1  {\"@context\": \"http://schema.org\", \"@type\": \"Jo...\n",
       "2         2  {\"@context\": \"http://schema.org\", \"@type\": \"Jo...\n",
       "3         3  {\"@context\": \"http://schema.org\", \"@type\": \"Jo...\n",
       "4         4  {\"@context\": \"http://schema.org\", \"@type\": \"Jo...\n",
       "...     ...                                                ...\n",
       "8255   8255  {\"@context\": \"http://schema.org\", \"@type\": \"Jo...\n",
       "8256   8256  {\"@context\": \"http://schema.org\", \"@type\": \"Jo...\n",
       "8257   8257  {\"@context\": \"http://schema.org\", \"@type\": \"Jo...\n",
       "8258   8258  {\"@context\": \"http://schema.org\", \"@type\": \"Jo...\n",
       "8260   8260  {\"@context\": \"http://schema.org\", \"@type\": \"Jo...\n",
       "\n",
       "[7685 rows x 2 columns]"
      ]
     },
     "execution_count": 11,
     "metadata": {},
     "output_type": "execute_result"
    }
   ],
   "source": [
    "data"
   ]
  },
  {
   "cell_type": "code",
   "execution_count": 26,
   "metadata": {},
   "outputs": [],
   "source": [
    "import os\n",
    "\n",
    "for i, row in data.iterrows():\n",
    "    with open(os.path.join('/mnt/c/Users/dell/Downloads/Tech-Projects-Portfolio/Data-Internship-Home-Assignment/my/extract', f'{i}.txt'), 'w') as f:\n",
    "        f.write(row['context'])\n",
    "    f.close()"
   ]
  },
  {
   "cell_type": "markdown",
   "metadata": {},
   "source": [
    "Let's take a sample and explore how the json file is structured \n"
   ]
  },
  {
   "cell_type": "markdown",
   "metadata": {},
   "source": [
    "```json\n",
    "{'@context': 'http://schema.org',\n",
    " '@type': 'JobPosting',\n",
    " 'datePosted': '2021-07-18T18:11:34.000Z',\n",
    " 'description': '<strong><u>Company Description<br><br></u></strong>As the world&apos;s leader in digital payments technology, Visa&apos;s mission is to connect the world through the most creative, reliable and secure payment network - enabling individuals, businesses, and economies to thrive. Our advanced global processing network, VisaNet, provides secure and reliable payments around the world, and is capable of handling more than 65,000 transaction messages a second. The company&apos;s dedication to innovation drives the rapid growth of connected commerce on any device, and fuels the dream of a cashless future for everyone, everywhere. As the world moves from analog to digital, Visa is applying our brand, products, people, network and scale to reshape the future of commerce.<br><br>At Visa, your individuality fits right in. Working here gives you an opportunity to impact the world, invest in your career growth, and be part of an inclusive and diverse workplace. We are a global team of disruptors, trailblazers, innovators and risk-takers who are helping drive economic growth in even the most remote parts of the world, creatively moving the industry forward, and doing meaningful work that brings financial literacy and digital commerce to millions of unbanked and underserved consumers.<br><br><strong>You&apos;re</strong> an Individual. <strong>We&apos;re</strong> the team for you. <strong>Together</strong>, let&apos;s transform the way the world pays.<br><br><strong><u>Job Description<br><br></u></strong>The fraud and risk management team within CyberSource is responsible for designing and building machine learning models for detecting, preventing and managing fraud in e-commerce payment events. The team collaborates closely with Visa colleagues and other internal stakeholders to provide the advanced and multilayered fraud and risk management solutions to enterprise as well as small-to-midsized businesses.<br><br>We are currently seeking a Data Scientist to support fraud risk modeling projects and drive insights for CyberSource. Ideal candidates for this position will have a very strong background of statistics and machine learning techniques and tools and. In addition, the candidate should have a proactive mindset for innovative researches and a highly collaborative approach to project work.<br><br><strong><u>You Will Work Collaboratively With a Team Composed Of Both Data Scientists And Engineers To<br><br></u></strong>The position will be based at Visa’s office in Foster City, California.<br><ul><li>Build and validate risk models with advanced machine learning techniques</li><li>Support model installations, and monitor and calibrate production models</li><li>Interpret and present modeling and analytical results to all level audience</li><li>Define financial and analytic metrics to measure development and production outcomes and produce performance reports</li><li>Conduct transaction data analyses for internal and external product owners, and develop deeper insights into the products using advanced statistical methods</li><li>Support sales and marketing efforts with sound statistical and financial analysis; execute ad-hoc analyses to meet the fast-changing market demands</li><li>Drive analytic product development via conducting statistical analyses on various data sources; and add values to products by innovatively applying the analysis</li><li>Enhance existing solutions and approaches by promoting new methodology and best practices in data science field</li><li>Collaborate with internal and external stakeholders and cross-functional teams</li></ul><strong>Qualifications<br><br></strong><strong><u>Basic Qualifications<br></u></strong><ul><li>2 years of work experience with a Bachelor’s Degree or an Advanced Degree (e.g. Masters, MBA, JD, MD, or PhD)<br></li></ul><strong><u>Preferred Qualifications<br></u></strong><ul><li>Graduate/Post Graduate degree (Master&apos;s or Ph.D.) in quantitative field such as statistics, mathematics, computer science, finance, economics or relevant area.</li><li>Hands-on experience in data science and analytical functions</li><li>Ability to analyze large datasets, extract information, features, anomalies, etc.</li><li>Ability to understand customer/client behavior, apply modeling and machine learning to business problems</li><li>Ability to communicate model outputs, performance internally and externally</li><li>Self-starter, curious, team player in dynamic environments.</li></ul><strong>Additional Information<br><br></strong><strong><u>Travel Requirements<br><br></u></strong>This position requires the incumbent to travel for work up to 5% of the time.<br><br><strong><u>Mental/Physical Requirements<br><br></u></strong>This position will be performed in an office setting. The position will require the incumbent to sit and stand at a desk, communicate in person and by telephone, frequently operate standard office equipment, such as telephones and computers, reach with hands and arms, and bend or lift up to 25 pounds.<br><br><strong><u>EEO Statement<br><br></u></strong>Visa will consider for employment qualified applicants with criminal histories in a manner consistent with EEOC guidelines and applicable local law.<br><br>Job Number: REF35768X',\n",
    " 'employmentType': 'FULL_TIME',\n",
    " 'hiringOrganization': {'@type': 'Organization',\n",
    "  'name': 'Visa',\n",
    "  'sameAs': 'https://www.linkedin.com/company/visa',\n",
    "  'logo': 'https://media-exp3.licdn.com/dms/image/C4D0BAQHW9Vyrl6r5ZA/company-logo_200_200/0/1519856212168?e=1634774400&amp;v=beta&amp;t=ByTenFtCKnSoj6tvr8aAp6UFa-hWDycmYddiu7dfPiw'},\n",
    " 'identifier': {'@type': 'PropertyValue',\n",
    "  'name': 'Visa',\n",
    "  'value': 'REF35768X'},\n",
    " 'image': 'https://media-exp3.licdn.com/dms/image/C4D0BAQHW9Vyrl6r5ZA/company-logo_100_100/0/1519856212168?e=1634774400&v=beta&t=Ef1tp_ZNDeHj2z1otKy6ewIikIoqp2C-QGKGvTP0qO0',\n",
    " 'industry': 'Consumer Services,Financial Services,Information Technology and Services',\n",
    " 'jobLocation': {'@type': 'Place',\n",
    "  'address': {'@type': 'PostalAddress',\n",
    "   'addressCountry': 'US',\n",
    "   'addressLocality': 'Foster City',\n",
    "   'addressRegion': 'CA',\n",
    "   'postalCode': '94029',\n",
    "   'streetAddress': None},\n",
    "  'latitude': 37.561882,\n",
    "  'longitude': -122.26644},\n",
    " 'skills': '',\n",
    " 'title': 'Data Scientist',\n",
    " 'validThrough': '2021-08-19T03:17:26.000Z',\n",
    " 'educationRequirements': {'@type': 'EducationalOccupationalCredential',\n",
    "  'credentialCategory': 'bachelor degree'},\n",
    " 'experienceRequirements': {'@type': 'OccupationalExperienceRequirements',\n",
    "  'monthsOfExperience': 24},\n",
    " 'estimatedSalary': {'@type': 'MonetaryAmount',\n",
    "  'currency': 'USD',\n",
    "  'value': {'@type': 'QuantitativeValue',\n",
    "   'minValue': 101000,\n",
    "   'maxValue': 156000,\n",
    "   'unitText': 'YEAR'}}}\n",
    "\n",
    "   ```"
   ]
  },
  {
   "cell_type": "code",
   "execution_count": 21,
   "metadata": {},
   "outputs": [],
   "source": [
    "template = {\n",
    "    \"job\": {\n",
    "        \"title\": None,\n",
    "        \"industry\": None,\n",
    "        \"description\": None,\n",
    "        \"employment_type\": None,\n",
    "        \"date_posted\": None,\n",
    "    },\n",
    "    \"company\": {\n",
    "        \"name\": None,\n",
    "        \"link\": None,\n",
    "    },\n",
    "    \"education\": {\n",
    "        \"required_credential\": None,\n",
    "    },\n",
    "    \"experience\": {\n",
    "        \"months_of_experience\": None,\n",
    "        \"seniority_level\": None,\n",
    "    },\n",
    "    \"salary\": {\n",
    "        \"currency\": None,\n",
    "        \"min_value\": None,\n",
    "        \"max_value\": None,\n",
    "        \"unit\": None,\n",
    "    },\n",
    "    \"location\": {\n",
    "        \"country\": None,\n",
    "        \"locality\": None,\n",
    "        \"region\": None,\n",
    "        \"postal_code\": None,\n",
    "        \"street_address\": None,\n",
    "        \"latitude\": None,\n",
    "        \"longitude\": None,\n",
    "    },\n",
    "}"
   ]
  },
  {
   "cell_type": "code",
   "execution_count": 22,
   "metadata": {},
   "outputs": [],
   "source": [
    "import html\n",
    "\n",
    "def text_decoder(text):\n",
    "    decoded_text = html.unescape(text)\n",
    "    utf8_text = decoded_text.encode('utf-8')\n",
    "\n",
    "    return utf8_text.decode('utf-8')"
   ]
  },
  {
   "cell_type": "code",
   "execution_count": 28,
   "metadata": {},
   "outputs": [],
   "source": [
    "import json \n",
    "\n",
    "data_as_json = []\n",
    "for file in os.listdir(os.path.join('/mnt/c/Users/dell/Downloads/Tech-Projects-Portfolio/Data-Internship-Home-Assignment/my/extract')):\n",
    "    with open(os.path.join('/mnt/c/Users/dell/Downloads/Tech-Projects-Portfolio/Data-Internship-Home-Assignment/my/extract', file), 'r') as f:\n",
    "        # Load the JSON data from the file\n",
    "        data = json.load(f)\n",
    "        for key in data.keys():\n",
    "            if isinstance(data[key], str):\n",
    "                data[key] = text_decoder(data[key])\n",
    "        data_as_json.append(data)\n",
    "    f.close()"
   ]
  },
  {
   "cell_type": "code",
   "execution_count": 31,
   "metadata": {},
   "outputs": [
    {
     "data": {
      "text/plain": [
       "{'@context': 'http://schema.org',\n",
       " '@type': 'JobPosting',\n",
       " 'datePosted': '2021-07-31T07:01:00.000Z',\n",
       " 'description': \"If you are a react/C# developer looking for a small, close knit team where you can work remoote, please read on!<br><br>Top Reasons to Work with Us<br><ul><li> Competitive pay, top-tier benefits, and unlimited PTO</li><li> People first environment with great office perks</li><li> 401k Matching!<br></li></ul>What You Will Be Doing<br><br>Full-stack software development<br>Working closely with the engineering team, QA, and product users on a highly functional agile team<br>Leading and guiding a team of junior and mid-level developers and test engineers<br>Ensuring system health and fixing defects<br>Solving difficult problems through research and innovation<br><br>What You Need for this Position<br><br><strong><u>At Least 3 Years Of Experience And Knowledge Of<br></u></strong><ul><li> .NET</li><li> C#</li><li> JavaScript</li><li> REACT</li><li> Azure</li><li> Cloud<br></li></ul>What's In It for You<br><ul><li> Competitive pay, top-tier benefits, and unlimited PTO</li><li> People first environment with great office/wfh perks</li><li> 401k Matching!<br></li></ul>So if you are a software engineer with the above experience, please apply today or email me directly at danny.gross@cybercoders.com.<br><br><strong><u>Email Your Resume In Word To<br><br></u></strong>Looking forward to receiving your resume through our website and going over the position with you. Clicking apply is the best way to apply, but you may also:<br><br>Danny.Gross@CyberCoders.com<br><ul><li>Please do NOT change the email subject line in any way. You must keep the JobID: linkedin : DG7-1641170 -- in the email subject line for your application to be considered.***<br></li></ul>Danny Gross - Sr. Executive Recruiter - CyberCoders<br><br>Applicants must be authorized to work in the U.S.<br><br><strong>CyberCoders, Inc is proud to be an Equal Opportunity Employer<br><br></strong>All qualified applicants will receive consideration for employment without regard to race, color, religion, sex, national origin, disability, protected veteran status, or any other characteristic protected by law.<br><br><strong>Your Right to Work</strong> - In compliance with federal law, all persons hired will be required to verify identity and eligibility to work in the United States and to complete the required employment eligibility verification document form upon hire.\",\n",
       " 'employmentType': 'FULL_TIME',\n",
       " 'hiringOrganization': {'@type': 'Organization',\n",
       "  'name': 'CyberCoders',\n",
       "  'sameAs': 'https://www.linkedin.com/company/cybercoders',\n",
       "  'logo': 'https://media-exp1.licdn.com/dms/image/C560BAQF7t9X4k2P2hA/company-logo_200_200/0/1625157716995?e=1635984000&amp;v=beta&amp;t=yZTfBQ14ngTtEVxsbGml0D4AY-JsPl4Ec5fBiyIqewA'},\n",
       " 'identifier': {'@type': 'PropertyValue',\n",
       "  'name': 'CyberCoders',\n",
       "  'value': 'DG7-16411704'},\n",
       " 'image': 'https://media-exp1.licdn.com/dms/image/C560BAQF7t9X4k2P2hA/company-logo_100_100/0/1625157716995?e=1635984000&v=beta&t=U9bUdh8sDRXodqR9jrxKHpojhJ7rvTUfzXBThV4rKzs',\n",
       " 'industry': 'Computer Software',\n",
       " 'jobLocation': {'@type': 'Place',\n",
       "  'address': {'@type': 'PostalAddress',\n",
       "   'addressCountry': 'US',\n",
       "   'addressLocality': 'Philadelphia',\n",
       "   'addressRegion': 'PA',\n",
       "   'postalCode': '08051',\n",
       "   'streetAddress': None},\n",
       "  'latitude': 39.95106,\n",
       "  'longitude': -75.16562},\n",
       " 'skills': '',\n",
       " 'title': 'Full Stack Software Engineer - React/C#',\n",
       " 'validThrough': '2021-08-30T07:00:58.000Z',\n",
       " 'educationRequirements': {'@type': 'EducationalOccupationalCredential',\n",
       "  'credentialCategory': 'bachelor degree'},\n",
       " 'experienceRequirements': {'@type': 'OccupationalExperienceRequirements',\n",
       "  'monthsOfExperience': 36}}"
      ]
     },
     "execution_count": 31,
     "metadata": {},
     "output_type": "execute_result"
    }
   ],
   "source": [
    "data_as_json[800]"
   ]
  },
  {
   "cell_type": "code",
   "execution_count": 37,
   "metadata": {},
   "outputs": [
    {
     "data": {
      "text/plain": [
       "{'@context': 'http://schema.org',\n",
       " '@type': 'JobPosting',\n",
       " 'datePosted': '2021-07-09T17:39:11.000Z',\n",
       " 'description': \"Ethicon, part of Johnson &amp; Johnson Medical Devices Companies, is recruiting for a <strong>Principal Software Engineer</strong>, located <strong><em><u>remotely</u></em> in the</strong> <strong>United States </strong>or in the<strong> Munich, Germany </strong>area.<br><br>Johnson &amp; Johnson Medical Devices is focused on shaping the future of digital surgery and expanding its robotics and digital solutions offerings across the entire portfolio, with multi-specialty, end-to-end solutions in orthopedics, endoluminal intervention and general surgery. This includes the MONARCH® platform, a first-of-its-kind robotic technology indicated for bronchoscopic visualization of and access to patient airways for diagnostic and therapeutic procedures in the lung.<br><br>Ethicon, part of Johnson &amp; Johnson Medical Devices Companies, has made significant contributions to surgery for more than 100 years from creating the first sutures, to revolutionizing surgery with minimally invasive procedures. Our continuing dedication to Shape the Future of Surgery is built on our commitment to help address the world's most pressing health care issues and improve and save more lives. Through Ethicon's surgical technologies and solutions including sutures, staplers, energy devices, trocars and hemostats and our commitment to treat serious medical conditions like obesity worldwide, we deliver innovation to make a life-changing impact. For more information, visit www.ethicon.com.<br><br>The Digital Solutions group is building advanced technologies to improve healthcare, and we are looking for a Software Engineer to join our team. We're looking for an experienced software engineer with strong C++ programming skills to help us continue developing our system software. This individual will be responsible for design and implementation of software solutions, as an active participant in all phases of the software development lifecycle.<br><br><strong>Key Responsibilities<br></strong><ul> <li>Use best practices for building software under Design Control procedures for use in a medical device.</li> <li>Using requirements developed through multi-functional team input, design and develop software solutions for sophisticated digital systems.</li> <li>Design, develop and debug software for complex, multi-process systems.</li> <li>Design and implement C++ software prototypes, components, and applications that are flexible and capable.</li> </ul> Johnson &amp; Johnson is an Affirmative Action and Equal Opportunity Employer. All qualified applicants will receive consideration for employment without regard to race, color, religion, sex, sexual orientation, gender identity, age, national origin, or protected veteran status and will not be discriminated against on the basis of disability.<br><br><strong>Qualifications<br><br></strong><strong>Required: <br></strong><ul> <li>Bachelor’s Degree in Computer Science, Computer Engineering, Electrical Engineering or relevant field</li> <li>Minimum 8 years of hands-on experience in software product development</li> <li>Demonstrated programming in C and C++ in a production environment</li> <li>Solid knowledge of data structure and algorithms</li> <li>Experience writing multi-process and multi-threaded software with practical knowledge of how this software can fail.</li> <li>Experience with software configuration management systems, such as Subversion and Git</li> <li>Experience with Full Stack Development </li> <li>Ability to mentor/teach others on the team </li> <li>Ability to travel up to 10%</li> <br><br></ul><strong>Preferred<br></strong><ul> <li>Advanced Degree in Computer Science, Computer Engineering, Electrical Engineering or relevant field</li> <li>Experience with medical device development</li> <li>Experience with front end languages such as HTML, CSS, and JavaScript</li> <li>Understanding of JavaScript frameworks such as AngularJs, React and Node.js</li> <li>Experience with server-side development using Python, Ruby, or PHP</li> <li>Familiarity with database technology such as MySQL and Postgres</li> <li>Experience with UI frameworks such as Qt.</li> <br><br></ul>#gia<br><br><strong>Primary Location<br></strong>United States---<br><strong>Other Locations<br></strong>Europe/Middle East/Africa-Germany-Bavaria-Munich, United States-California-Santa Clara<br><strong>Organization<br></strong>Verb Surgical Inc. (6270)<br><strong>Job Function<br></strong>R&amp;D<br><strong>Requisition ID<br></strong>2105907683W<br><br>\",\n",
       " 'employmentType': 'FULL_TIME',\n",
       " 'hiringOrganization': {'@type': 'Organization',\n",
       "  'name': 'Johnson &amp; Johnson',\n",
       "  'sameAs': 'https://www.linkedin.com/company/johnson-&amp;-johnson',\n",
       "  'logo': 'https://media-exp1.licdn.com/dms/image/C4D0BAQFwn8CHaum_AA/company-logo_200_200/0/1519856123566?e=1634169600&amp;v=beta&amp;t=2NjZWPRgbsO72ezG2h0KO7oYWvsDvEmb_aDHJxpgL74'},\n",
       " 'identifier': {'@type': 'PropertyValue',\n",
       "  'name': 'Johnson &amp; Johnson',\n",
       "  'value': 'jnj-2105907683W-en-us-2'},\n",
       " 'image': 'https://media-exp1.licdn.com/dms/image/C4D0BAQFwn8CHaum_AA/company-logo_100_100/0/1519856123566?e=1634169600&v=beta&t=j8cyjYaS3S0yKbSziiLCALdSTxV_XTtyh3jykTGmIM4',\n",
       " 'industry': 'Hospital & Health Care,Medical Devices,Pharmaceuticals',\n",
       " 'jobLocation': {'@type': 'Place',\n",
       "  'address': {'@type': 'PostalAddress',\n",
       "   'addressCountry': 'US',\n",
       "   'addressLocality': 'Santa Clara',\n",
       "   'addressRegion': 'CA',\n",
       "   'postalCode': '95050',\n",
       "   'streetAddress': None},\n",
       "  'latitude': 37.352394,\n",
       "  'longitude': -121.95308},\n",
       " 'skills': '',\n",
       " 'title': 'Principal Full Stack Software Engineer.',\n",
       " 'validThrough': '2021-08-08T17:39:10.000Z',\n",
       " 'educationRequirements': {'@type': 'EducationalOccupationalCredential',\n",
       "  'credentialCategory': 'bachelor degree'},\n",
       " 'experienceRequirements': {'@type': 'OccupationalExperienceRequirements',\n",
       "  'monthsOfExperience': 96}}"
      ]
     },
     "execution_count": 37,
     "metadata": {},
     "output_type": "execute_result"
    }
   ],
   "source": [
    "data_as_json[1]"
   ]
  },
  {
   "cell_type": "code",
   "execution_count": 32,
   "metadata": {},
   "outputs": [
    {
     "data": {
      "text/plain": [
       "7685"
      ]
     },
     "execution_count": 32,
     "metadata": {},
     "output_type": "execute_result"
    }
   ],
   "source": [
    "len(data_as_json)"
   ]
  },
  {
   "cell_type": "code",
   "execution_count": 35,
   "metadata": {},
   "outputs": [
    {
     "data": {
      "text/plain": [
       "{'@context': 'http://schema.org',\n",
       " '@type': 'JobPosting',\n",
       " 'datePosted': '2021-07-18T18:11:34.000Z',\n",
       " 'description': '<strong><u>Company Description<br><br></u></strong>As the world&apos;s leader in digital payments technology, Visa&apos;s mission is to connect the world through the most creative, reliable and secure payment network - enabling individuals, businesses, and economies to thrive. Our advanced global processing network, VisaNet, provides secure and reliable payments around the world, and is capable of handling more than 65,000 transaction messages a second. The company&apos;s dedication to innovation drives the rapid growth of connected commerce on any device, and fuels the dream of a cashless future for everyone, everywhere. As the world moves from analog to digital, Visa is applying our brand, products, people, network and scale to reshape the future of commerce.<br><br>At Visa, your individuality fits right in. Working here gives you an opportunity to impact the world, invest in your career growth, and be part of an inclusive and diverse workplace. We are a global team of disruptors, trailblazers, innovators and risk-takers who are helping drive economic growth in even the most remote parts of the world, creatively moving the industry forward, and doing meaningful work that brings financial literacy and digital commerce to millions of unbanked and underserved consumers.<br><br><strong>You&apos;re</strong> an Individual. <strong>We&apos;re</strong> the team for you. <strong>Together</strong>, let&apos;s transform the way the world pays.<br><br><strong><u>Job Description<br><br></u></strong>The fraud and risk management team within CyberSource is responsible for designing and building machine learning models for detecting, preventing and managing fraud in e-commerce payment events. The team collaborates closely with Visa colleagues and other internal stakeholders to provide the advanced and multilayered fraud and risk management solutions to enterprise as well as small-to-midsized businesses.<br><br>We are currently seeking a Data Scientist to support fraud risk modeling projects and drive insights for CyberSource. Ideal candidates for this position will have a very strong background of statistics and machine learning techniques and tools and. In addition, the candidate should have a proactive mindset for innovative researches and a highly collaborative approach to project work.<br><br><strong><u>You Will Work Collaboratively With a Team Composed Of Both Data Scientists And Engineers To<br><br></u></strong>The position will be based at Visa’s office in Foster City, California.<br><ul><li>Build and validate risk models with advanced machine learning techniques</li><li>Support model installations, and monitor and calibrate production models</li><li>Interpret and present modeling and analytical results to all level audience</li><li>Define financial and analytic metrics to measure development and production outcomes and produce performance reports</li><li>Conduct transaction data analyses for internal and external product owners, and develop deeper insights into the products using advanced statistical methods</li><li>Support sales and marketing efforts with sound statistical and financial analysis; execute ad-hoc analyses to meet the fast-changing market demands</li><li>Drive analytic product development via conducting statistical analyses on various data sources; and add values to products by innovatively applying the analysis</li><li>Enhance existing solutions and approaches by promoting new methodology and best practices in data science field</li><li>Collaborate with internal and external stakeholders and cross-functional teams</li></ul><strong>Qualifications<br><br></strong><strong><u>Basic Qualifications<br></u></strong><ul><li>2 years of work experience with a Bachelor’s Degree or an Advanced Degree (e.g. Masters, MBA, JD, MD, or PhD)<br></li></ul><strong><u>Preferred Qualifications<br></u></strong><ul><li>Graduate/Post Graduate degree (Master&apos;s or Ph.D.) in quantitative field such as statistics, mathematics, computer science, finance, economics or relevant area.</li><li>Hands-on experience in data science and analytical functions</li><li>Ability to analyze large datasets, extract information, features, anomalies, etc.</li><li>Ability to understand customer/client behavior, apply modeling and machine learning to business problems</li><li>Ability to communicate model outputs, performance internally and externally</li><li>Self-starter, curious, team player in dynamic environments.</li></ul><strong>Additional Information<br><br></strong><strong><u>Travel Requirements<br><br></u></strong>This position requires the incumbent to travel for work up to 5% of the time.<br><br><strong><u>Mental/Physical Requirements<br><br></u></strong>This position will be performed in an office setting. The position will require the incumbent to sit and stand at a desk, communicate in person and by telephone, frequently operate standard office equipment, such as telephones and computers, reach with hands and arms, and bend or lift up to 25 pounds.<br><br><strong><u>EEO Statement<br><br></u></strong>Visa will consider for employment qualified applicants with criminal histories in a manner consistent with EEOC guidelines and applicable local law.<br><br>Job Number: REF35768X',\n",
       " 'employmentType': 'FULL_TIME',\n",
       " 'hiringOrganization': {'@type': 'Organization',\n",
       "  'name': 'Visa',\n",
       "  'sameAs': 'https://www.linkedin.com/company/visa',\n",
       "  'logo': 'https://media-exp3.licdn.com/dms/image/C4D0BAQHW9Vyrl6r5ZA/company-logo_200_200/0/1519856212168?e=1634774400&amp;v=beta&amp;t=ByTenFtCKnSoj6tvr8aAp6UFa-hWDycmYddiu7dfPiw'},\n",
       " 'identifier': {'@type': 'PropertyValue',\n",
       "  'name': 'Visa',\n",
       "  'value': 'REF35768X'},\n",
       " 'image': 'https://media-exp3.licdn.com/dms/image/C4D0BAQHW9Vyrl6r5ZA/company-logo_100_100/0/1519856212168?e=1634774400&v=beta&t=Ef1tp_ZNDeHj2z1otKy6ewIikIoqp2C-QGKGvTP0qO0',\n",
       " 'industry': 'Consumer Services,Financial Services,Information Technology and Services',\n",
       " 'jobLocation': {'@type': 'Place',\n",
       "  'address': {'@type': 'PostalAddress',\n",
       "   'addressCountry': 'US',\n",
       "   'addressLocality': 'Foster City',\n",
       "   'addressRegion': 'CA',\n",
       "   'postalCode': '94029',\n",
       "   'streetAddress': None},\n",
       "  'latitude': 37.561882,\n",
       "  'longitude': -122.26644},\n",
       " 'skills': '',\n",
       " 'title': 'Data Scientist',\n",
       " 'validThrough': '2021-08-19T03:17:26.000Z',\n",
       " 'educationRequirements': {'@type': 'EducationalOccupationalCredential',\n",
       "  'credentialCategory': 'bachelor degree'},\n",
       " 'experienceRequirements': {'@type': 'OccupationalExperienceRequirements',\n",
       "  'monthsOfExperience': 24},\n",
       " 'estimatedSalary': {'@type': 'MonetaryAmount',\n",
       "  'currency': 'USD',\n",
       "  'value': {'@type': 'QuantitativeValue',\n",
       "   'minValue': 101000,\n",
       "   'maxValue': 156000,\n",
       "   'unitText': 'YEAR'}}}"
      ]
     },
     "execution_count": 35,
     "metadata": {},
     "output_type": "execute_result"
    }
   ],
   "source": [
    "data_as_json[7684]"
   ]
  },
  {
   "cell_type": "code",
   "execution_count": 36,
   "metadata": {},
   "outputs": [
    {
     "data": {
      "text/plain": [
       "576"
      ]
     },
     "execution_count": 36,
     "metadata": {},
     "output_type": "execute_result"
    }
   ],
   "source": [
    "8260 - 7684"
   ]
  },
  {
   "cell_type": "markdown",
   "metadata": {},
   "source": [
    "the missing values deleted ealrlier in the data is 576 plus"
   ]
  },
  {
   "cell_type": "code",
   "execution_count": 42,
   "metadata": {},
   "outputs": [],
   "source": [
    "job_mapping = {\n",
    "    'date_posted': 'datePosted',\n",
    "    'description': 'description',\n",
    "    'employment_type': 'employmentType',\n",
    "    'industry': 'industry',\n",
    "    'title': 'title'\n",
    "}\n",
    "location_mapping = {\n",
    "    'country': 'jobLocation.address.addressCountry',\n",
    "    'latitude': 'jobLocation.latitude',\n",
    "    'locality': 'jobLocation.address.addressLocality',\n",
    "    'longitude': 'jobLocation.longitude',\n",
    "    'postal_code': 'jobLocation.address.postalCode',\n",
    "    'region': 'jobLocation.address.addressRegion',\n",
    "    'street_address': 'jobLocation.address.streetAddress',\n",
    "}\n",
    "company_mapping = {\n",
    "    'link': 'hiringOrganization.sameAs',\n",
    "    'name': 'hiringOrganization.name',\n",
    "}\n",
    "salary_mapping = {\n",
    "    'currency': 'estimatedSalary.currency',\n",
    "    'max_value': 'estimatedSalary.value.maxValue',\n",
    "    'min_value': 'estimatedSalary.value.minValue',\n",
    "    'unit': 'estimatedSalary.value.unitText',\n",
    "}"
   ]
  },
  {
   "cell_type": "code",
   "execution_count": 43,
   "metadata": {},
   "outputs": [],
   "source": [
    "for key_in_template, key_in_data in job_mapping.items():\n",
    "        if key_in_data in data_as_json[0].keys():\n",
    "            template['job'][key_in_template] = data_as_json[0][key_in_data]"
   ]
  },
  {
   "cell_type": "code",
   "execution_count": 44,
   "metadata": {},
   "outputs": [
    {
     "data": {
      "text/plain": [
       "{'job': {'title': 'Senior Data Engineer',\n",
       "  'industry': 'Broadcast Media',\n",
       "  'description': \"Job Title: Senior Data Engineer<br>Location: Alexandria, VA<br>Salary Range: $120k - $150k<br>Requirements: ETL/ELT, SQL, AWS/Google Cloud, Linux/Unix, Spark (preferred), NoSQL (preferred), Machine Learning concepts (preferred)<br><br>Based in beautiful Alexandria, VA, we are one of the hottest media analytics and software start-ups in the DC area. Due to growth, we are actively seeking to hire a Senior Data Engineer to join our team. The ideal candidate will have at least 5 years of experience with data pipelines (built with Python), ETL experience, a strong SQL background, experience with AWS or Google Cloud, and strong Unix/Linux fundamentals. Any experience with Spark, NoSQL, and Machine Learning would be a huge plus. If this sounds like you, please apply now or send your resume to shiv.warrier@cybercoders.com!<br><br>What You Will Be Doing<br><ul><li>Lead design and development of data pipelines</li><li>Deliver features on a cadence within an agile framework</li><li>Contribute to the definition of user stories</li><li>Collaborate with other members of the team, including offshore, on development integration</li><li>Write unit tests and maintain high code quality, per both static code analysis team standards</li><li>Be available on a rotating schedule for production issues<br></li></ul>What You Need for this Position<br><br><strong><u>Must-Have<br></u></strong><ul><li>BS in Computer Science or equivalent</li><li>5+ years of experience in software/data engineering</li><li>Expertise in ETL/ELT techniques</li><li>Expertise in SQL</li><li>Experience working with AWS or Google Cloud</li><li>Strong Unix/Linux fundamentals<br></li></ul><strong><u>Nice To Have<br></u></strong><ul><li>Experience with data processing frameworks e.g. Spark</li><li>Experience with NoSQL column-store databases</li><li>Exposure to machine learning concepts<br></li></ul>Exposure to ad tech concepts terminology<br><br>What's In It for You<br><ul><li>Competitive salary with high bonus potential</li><li>Collaborative and creative atmosphere, with inspired leadership</li><li>Career advancement opportunities</li><li>Recognition and reward for outstanding performance</li><li>Great medical, dental; vision Insurance packages</li><li>Competitive 401K with company match to plan for the long term</li><li>Unlimited paid-time-off</li><li>Transportation benefits, cell phone reimbursement</li><li>Casual dress all day, every day<br></li></ul>So, if you are a Senior Data Engineer with experience, please apply today!<br><br><strong><u>Email Your Resume In Word To<br><br></u></strong>Looking forward to receiving your resume through our website and going over the position with you. Clicking apply is the best way to apply, but you may also:<br><br>Shiv.Warrier@CyberCoders.com<br><ul><li>Please do NOT change the email subject line in any way. You must keep the JobID: linkedin : SW3-1634173 -- in the email subject line for your application to be considered.***<br></li></ul>Shiv Warrier - Sr. Executive Recruiter - CyberCoders<br><br>Applicants must be authorized to work in the U.S.<br><br><strong>CyberCoders, Inc is proud to be an Equal Opportunity Employer<br><br></strong>All qualified applicants will receive consideration for employment without regard to race, color, religion, sex, national origin, disability, protected veteran status, or any other characteristic protected by law.<br><br><strong>Your Right to Work</strong> - In compliance with federal law, all persons hired will be required to verify identity and eligibility to work in the United States and to complete the required employment eligibility verification document form upon hire.\",\n",
       "  'employment_type': 'FULL_TIME',\n",
       "  'date_posted': '2021-07-09T17:39:28.000Z'},\n",
       " 'company': {'name': None, 'link': None},\n",
       " 'education': {'required_credential': 'bachelor degree'},\n",
       " 'experience': {'months_of_experience': 24, 'seniority_level': \"I don't know\"},\n",
       " 'salary': {'currency': None,\n",
       "  'min_value': None,\n",
       "  'max_value': None,\n",
       "  'unit': None},\n",
       " 'location': {'country': None,\n",
       "  'locality': None,\n",
       "  'region': None,\n",
       "  'postal_code': None,\n",
       "  'street_address': None,\n",
       "  'latitude': None,\n",
       "  'longitude': None}}"
      ]
     },
     "execution_count": 44,
     "metadata": {},
     "output_type": "execute_result"
    }
   ],
   "source": [
    "template"
   ]
  },
  {
   "cell_type": "code",
   "execution_count": 52,
   "metadata": {},
   "outputs": [
    {
     "name": "stdout",
     "output_type": "stream",
     "text": [
      "link hiringOrganization.sameAs\n",
      "name hiringOrganization.name\n"
     ]
    }
   ],
   "source": [
    "for key_in_template, key_in_data in company_mapping.items():\n",
    "\n",
    "    print(key_in_template ,key_in_data )\n",
    "        "
   ]
  },
  {
   "cell_type": "code",
   "execution_count": 60,
   "metadata": {},
   "outputs": [
    {
     "data": {
      "text/plain": [
       "dict_keys(['@context', '@type', 'datePosted', 'description', 'employmentType', 'hiringOrganization', 'identifier', 'image', 'industry', 'jobLocation', 'skills', 'title', 'validThrough', 'educationRequirements', 'experienceRequirements', 'estimatedSalary'])"
      ]
     },
     "execution_count": 60,
     "metadata": {},
     "output_type": "execute_result"
    }
   ],
   "source": [
    "data_as_json[7684].keys()"
   ]
  },
  {
   "cell_type": "code",
   "execution_count": 64,
   "metadata": {},
   "outputs": [
    {
     "name": "stdout",
     "output_type": "stream",
     "text": [
      "sdkljb\n"
     ]
    }
   ],
   "source": [
    "if \"hiringOrganization\" in data_as_json[7684].keys():\n",
    "            print(\"sdkljb\")"
   ]
  },
  {
   "cell_type": "code",
   "execution_count": 59,
   "metadata": {},
   "outputs": [
    {
     "name": "stdout",
     "output_type": "stream",
     "text": [
      "hiringOrganization.sameAs\n",
      "['hiringOrganization', 'sameAs']\n",
      "hiringOrganization.name\n",
      "['hiringOrganization', 'name']\n"
     ]
    }
   ],
   "source": [
    "for key_in_template, key_in_data in company_mapping.items():\n",
    "        print(key_in_data)\n",
    "        keys = key_in_data.split('.')\n",
    "        print(keys)\n",
    "        value = data_as_json[7684]\n",
    "        if key_in_data in data_as_json[7684].keys():\n",
    "            print(key_in_data)\n",
    "            \n",
    "            print(keys)\n",
    "            for key in keys:\n",
    "                if key in value:\n",
    "                    value = value[key]\n",
    "                else:\n",
    "                    break\n",
    "            else:\n",
    "                print(\"dslkjbf\")\n",
    "                template['company'][key_in_template] = value\n",
    "                template"
   ]
  },
  {
   "cell_type": "code",
   "execution_count": 46,
   "metadata": {},
   "outputs": [
    {
     "data": {
      "text/plain": [
       "{'job': {'title': 'Senior Data Engineer',\n",
       "  'industry': 'Broadcast Media',\n",
       "  'description': \"Job Title: Senior Data Engineer<br>Location: Alexandria, VA<br>Salary Range: $120k - $150k<br>Requirements: ETL/ELT, SQL, AWS/Google Cloud, Linux/Unix, Spark (preferred), NoSQL (preferred), Machine Learning concepts (preferred)<br><br>Based in beautiful Alexandria, VA, we are one of the hottest media analytics and software start-ups in the DC area. Due to growth, we are actively seeking to hire a Senior Data Engineer to join our team. The ideal candidate will have at least 5 years of experience with data pipelines (built with Python), ETL experience, a strong SQL background, experience with AWS or Google Cloud, and strong Unix/Linux fundamentals. Any experience with Spark, NoSQL, and Machine Learning would be a huge plus. If this sounds like you, please apply now or send your resume to shiv.warrier@cybercoders.com!<br><br>What You Will Be Doing<br><ul><li>Lead design and development of data pipelines</li><li>Deliver features on a cadence within an agile framework</li><li>Contribute to the definition of user stories</li><li>Collaborate with other members of the team, including offshore, on development integration</li><li>Write unit tests and maintain high code quality, per both static code analysis team standards</li><li>Be available on a rotating schedule for production issues<br></li></ul>What You Need for this Position<br><br><strong><u>Must-Have<br></u></strong><ul><li>BS in Computer Science or equivalent</li><li>5+ years of experience in software/data engineering</li><li>Expertise in ETL/ELT techniques</li><li>Expertise in SQL</li><li>Experience working with AWS or Google Cloud</li><li>Strong Unix/Linux fundamentals<br></li></ul><strong><u>Nice To Have<br></u></strong><ul><li>Experience with data processing frameworks e.g. Spark</li><li>Experience with NoSQL column-store databases</li><li>Exposure to machine learning concepts<br></li></ul>Exposure to ad tech concepts terminology<br><br>What's In It for You<br><ul><li>Competitive salary with high bonus potential</li><li>Collaborative and creative atmosphere, with inspired leadership</li><li>Career advancement opportunities</li><li>Recognition and reward for outstanding performance</li><li>Great medical, dental; vision Insurance packages</li><li>Competitive 401K with company match to plan for the long term</li><li>Unlimited paid-time-off</li><li>Transportation benefits, cell phone reimbursement</li><li>Casual dress all day, every day<br></li></ul>So, if you are a Senior Data Engineer with experience, please apply today!<br><br><strong><u>Email Your Resume In Word To<br><br></u></strong>Looking forward to receiving your resume through our website and going over the position with you. Clicking apply is the best way to apply, but you may also:<br><br>Shiv.Warrier@CyberCoders.com<br><ul><li>Please do NOT change the email subject line in any way. You must keep the JobID: linkedin : SW3-1634173 -- in the email subject line for your application to be considered.***<br></li></ul>Shiv Warrier - Sr. Executive Recruiter - CyberCoders<br><br>Applicants must be authorized to work in the U.S.<br><br><strong>CyberCoders, Inc is proud to be an Equal Opportunity Employer<br><br></strong>All qualified applicants will receive consideration for employment without regard to race, color, religion, sex, national origin, disability, protected veteran status, or any other characteristic protected by law.<br><br><strong>Your Right to Work</strong> - In compliance with federal law, all persons hired will be required to verify identity and eligibility to work in the United States and to complete the required employment eligibility verification document form upon hire.\",\n",
       "  'employment_type': 'FULL_TIME',\n",
       "  'date_posted': '2021-07-09T17:39:28.000Z'},\n",
       " 'company': {'name': None, 'link': None},\n",
       " 'education': {'required_credential': 'bachelor degree'},\n",
       " 'experience': {'months_of_experience': 24, 'seniority_level': \"I don't know\"},\n",
       " 'salary': {'currency': None,\n",
       "  'min_value': None,\n",
       "  'max_value': None,\n",
       "  'unit': None},\n",
       " 'location': {'country': None,\n",
       "  'locality': None,\n",
       "  'region': None,\n",
       "  'postal_code': None,\n",
       "  'street_address': None,\n",
       "  'latitude': None,\n",
       "  'longitude': None}}"
      ]
     },
     "execution_count": 46,
     "metadata": {},
     "output_type": "execute_result"
    }
   ],
   "source": [
    "template"
   ]
  },
  {
   "cell_type": "code",
   "execution_count": 47,
   "metadata": {},
   "outputs": [
    {
     "data": {
      "text/plain": [
       "{'@context': 'http://schema.org',\n",
       " '@type': 'JobPosting',\n",
       " 'datePosted': '2021-07-09T17:39:28.000Z',\n",
       " 'description': \"Job Title: Senior Data Engineer<br>Location: Alexandria, VA<br>Salary Range: $120k - $150k<br>Requirements: ETL/ELT, SQL, AWS/Google Cloud, Linux/Unix, Spark (preferred), NoSQL (preferred), Machine Learning concepts (preferred)<br><br>Based in beautiful Alexandria, VA, we are one of the hottest media analytics and software start-ups in the DC area. Due to growth, we are actively seeking to hire a Senior Data Engineer to join our team. The ideal candidate will have at least 5 years of experience with data pipelines (built with Python), ETL experience, a strong SQL background, experience with AWS or Google Cloud, and strong Unix/Linux fundamentals. Any experience with Spark, NoSQL, and Machine Learning would be a huge plus. If this sounds like you, please apply now or send your resume to shiv.warrier@cybercoders.com!<br><br>What You Will Be Doing<br><ul><li>Lead design and development of data pipelines</li><li>Deliver features on a cadence within an agile framework</li><li>Contribute to the definition of user stories</li><li>Collaborate with other members of the team, including offshore, on development integration</li><li>Write unit tests and maintain high code quality, per both static code analysis team standards</li><li>Be available on a rotating schedule for production issues<br></li></ul>What You Need for this Position<br><br><strong><u>Must-Have<br></u></strong><ul><li>BS in Computer Science or equivalent</li><li>5+ years of experience in software/data engineering</li><li>Expertise in ETL/ELT techniques</li><li>Expertise in SQL</li><li>Experience working with AWS or Google Cloud</li><li>Strong Unix/Linux fundamentals<br></li></ul><strong><u>Nice To Have<br></u></strong><ul><li>Experience with data processing frameworks e.g. Spark</li><li>Experience with NoSQL column-store databases</li><li>Exposure to machine learning concepts<br></li></ul>Exposure to ad tech concepts terminology<br><br>What's In It for You<br><ul><li>Competitive salary with high bonus potential</li><li>Collaborative and creative atmosphere, with inspired leadership</li><li>Career advancement opportunities</li><li>Recognition and reward for outstanding performance</li><li>Great medical, dental; vision Insurance packages</li><li>Competitive 401K with company match to plan for the long term</li><li>Unlimited paid-time-off</li><li>Transportation benefits, cell phone reimbursement</li><li>Casual dress all day, every day<br></li></ul>So, if you are a Senior Data Engineer with experience, please apply today!<br><br><strong><u>Email Your Resume In Word To<br><br></u></strong>Looking forward to receiving your resume through our website and going over the position with you. Clicking apply is the best way to apply, but you may also:<br><br>Shiv.Warrier@CyberCoders.com<br><ul><li>Please do NOT change the email subject line in any way. You must keep the JobID: linkedin : SW3-1634173 -- in the email subject line for your application to be considered.***<br></li></ul>Shiv Warrier - Sr. Executive Recruiter - CyberCoders<br><br>Applicants must be authorized to work in the U.S.<br><br><strong>CyberCoders, Inc is proud to be an Equal Opportunity Employer<br><br></strong>All qualified applicants will receive consideration for employment without regard to race, color, religion, sex, national origin, disability, protected veteran status, or any other characteristic protected by law.<br><br><strong>Your Right to Work</strong> - In compliance with federal law, all persons hired will be required to verify identity and eligibility to work in the United States and to complete the required employment eligibility verification document form upon hire.\",\n",
       " 'employmentType': 'FULL_TIME',\n",
       " 'hiringOrganization': {'@type': 'Organization',\n",
       "  'name': 'CyberCoders',\n",
       "  'sameAs': 'https://www.linkedin.com/company/cybercoders',\n",
       "  'logo': 'https://media-exp1.licdn.com/dms/image/C560BAQF7t9X4k2P2hA/company-logo_200_200/0/1625157716995?e=1634169600&amp;v=beta&amp;t=_K8f0WdsDJh9IGZza0q9ge6y8lFjO-HPEX9EuNvl5Po'},\n",
       " 'identifier': {'@type': 'PropertyValue',\n",
       "  'name': 'CyberCoders',\n",
       "  'value': 'SW3-163417310'},\n",
       " 'image': 'https://media-exp1.licdn.com/dms/image/C560BAQF7t9X4k2P2hA/company-logo_100_100/0/1625157716995?e=1634169600&v=beta&t=277e1bY2Y6I2oW9ODaH13nJh9sv0a1T0CWCoxap_HGc',\n",
       " 'industry': 'Broadcast Media',\n",
       " 'jobLocation': {'@type': 'Place',\n",
       "  'address': {'@type': 'PostalAddress',\n",
       "   'addressCountry': 'US',\n",
       "   'addressLocality': 'Alexandria',\n",
       "   'addressRegion': 'VA',\n",
       "   'postalCode': '22336',\n",
       "   'streetAddress': None},\n",
       "  'latitude': 38.804665,\n",
       "  'longitude': -77.04362},\n",
       " 'skills': '',\n",
       " 'title': 'Senior Data Engineer',\n",
       " 'validThrough': '2021-08-08T17:39:28.000Z',\n",
       " 'educationRequirements': {'@type': 'EducationalOccupationalCredential',\n",
       "  'credentialCategory': 'bachelor degree'},\n",
       " 'experienceRequirements': {'@type': 'OccupationalExperienceRequirements',\n",
       "  'monthsOfExperience': 60}}"
      ]
     },
     "execution_count": 47,
     "metadata": {},
     "output_type": "execute_result"
    }
   ],
   "source": [
    "data_as_json[0]"
   ]
  },
  {
   "cell_type": "code",
   "execution_count": 66,
   "metadata": {},
   "outputs": [
    {
     "data": {
      "text/plain": [
       "6"
      ]
     },
     "execution_count": 66,
     "metadata": {},
     "output_type": "execute_result"
    }
   ],
   "source": [
    "len(template)"
   ]
  },
  {
   "cell_type": "code",
   "execution_count": 71,
   "metadata": {},
   "outputs": [],
   "source": [
    "def extract_nested_value(data, splitted_keys):\n",
    "    for key in splitted_keys:\n",
    "        if key in data:\n",
    "            data = data[key]\n",
    "        else:\n",
    "            return None\n",
    "    return data\n",
    "\n",
    "job_mapping = {\n",
    "    'date_posted': 'datePosted',\n",
    "    'description': 'description',\n",
    "    'employment_type': 'employmentType',\n",
    "    'industry': 'industry',\n",
    "    'title': 'title'\n",
    "}\n",
    "location_mapping = {\n",
    "    'country': 'jobLocation.address.addressCountry',\n",
    "    'latitude': 'jobLocation.latitude',\n",
    "    'locality': 'jobLocation.address.addressLocality',\n",
    "    'longitude': 'jobLocation.longitude',\n",
    "    'postal_code': 'jobLocation.address.postalCode',\n",
    "    'region': 'jobLocation.address.addressRegion',\n",
    "    'street_address': 'jobLocation.address.streetAddress',\n",
    "}\n",
    "company_mapping = {\n",
    "    'link': 'hiringOrganization.sameAs',\n",
    "    'name': 'hiringOrganization.name',\n",
    "}\n",
    "salary_mapping = {\n",
    "    'currency': 'estimatedSalary.currency',\n",
    "    'max_value': 'estimatedSalary.value.maxValue',\n",
    "    'min_value': 'estimatedSalary.value.minValue',\n",
    "    'unit': 'estimatedSalary.value.unitText',\n",
    "}\n",
    "transformed_data = []\n",
    "for data in data_as_json:\n",
    "    fill_template = template\n",
    "    for key_in_template, key_in_data in job_mapping.items():\n",
    "        fill_template['job'][key_in_template] = data.get(key_in_data, None)\n",
    "\n",
    "    for key_in_template, key_in_data in company_mapping.items():\n",
    "        fill_template['company'][key_in_template] = extract_nested_value(data, key_in_data.split('.'))\n",
    "\n",
    "    fill_template['education']['required_credential'] = extract_nested_value(data, 'educationRequirements.credentialCategory'.split('.'))\n",
    "\n",
    "    if 'experienceRequirements' in data and isinstance(data['experienceRequirements'], dict):\n",
    "        fill_template['experience']['months_of_experience'] = data['experienceRequirements'].get('monthsOfExperience', None)\n",
    "    fill_template['experience']['seniority_level'] = \"NA\"\n",
    "\n",
    "    for key_in_template, key_in_data in location_mapping.items():\n",
    "        fill_template['location'][key_in_template] = extract_nested_value(data, key_in_data.split('.'))\n",
    "\n",
    "    for key_in_template, key_in_data in salary_mapping.items():\n",
    "        fill_template['salary'][key_in_template] = extract_nested_value(data, key_in_data.split('.'))\n",
    "    \n",
    "    transformed_data.append(template)"
   ]
  },
  {
   "cell_type": "code",
   "execution_count": 72,
   "metadata": {},
   "outputs": [
    {
     "data": {
      "text/plain": [
       "{'job': {'title': 'Data Scientist',\n",
       "  'industry': 'Consumer Services,Financial Services,Information Technology and Services',\n",
       "  'description': '<strong><u>Company Description<br><br></u></strong>As the world&apos;s leader in digital payments technology, Visa&apos;s mission is to connect the world through the most creative, reliable and secure payment network - enabling individuals, businesses, and economies to thrive. Our advanced global processing network, VisaNet, provides secure and reliable payments around the world, and is capable of handling more than 65,000 transaction messages a second. The company&apos;s dedication to innovation drives the rapid growth of connected commerce on any device, and fuels the dream of a cashless future for everyone, everywhere. As the world moves from analog to digital, Visa is applying our brand, products, people, network and scale to reshape the future of commerce.<br><br>At Visa, your individuality fits right in. Working here gives you an opportunity to impact the world, invest in your career growth, and be part of an inclusive and diverse workplace. We are a global team of disruptors, trailblazers, innovators and risk-takers who are helping drive economic growth in even the most remote parts of the world, creatively moving the industry forward, and doing meaningful work that brings financial literacy and digital commerce to millions of unbanked and underserved consumers.<br><br><strong>You&apos;re</strong> an Individual. <strong>We&apos;re</strong> the team for you. <strong>Together</strong>, let&apos;s transform the way the world pays.<br><br><strong><u>Job Description<br><br></u></strong>The fraud and risk management team within CyberSource is responsible for designing and building machine learning models for detecting, preventing and managing fraud in e-commerce payment events. The team collaborates closely with Visa colleagues and other internal stakeholders to provide the advanced and multilayered fraud and risk management solutions to enterprise as well as small-to-midsized businesses.<br><br>We are currently seeking a Data Scientist to support fraud risk modeling projects and drive insights for CyberSource. Ideal candidates for this position will have a very strong background of statistics and machine learning techniques and tools and. In addition, the candidate should have a proactive mindset for innovative researches and a highly collaborative approach to project work.<br><br><strong><u>You Will Work Collaboratively With a Team Composed Of Both Data Scientists And Engineers To<br><br></u></strong>The position will be based at Visa’s office in Foster City, California.<br><ul><li>Build and validate risk models with advanced machine learning techniques</li><li>Support model installations, and monitor and calibrate production models</li><li>Interpret and present modeling and analytical results to all level audience</li><li>Define financial and analytic metrics to measure development and production outcomes and produce performance reports</li><li>Conduct transaction data analyses for internal and external product owners, and develop deeper insights into the products using advanced statistical methods</li><li>Support sales and marketing efforts with sound statistical and financial analysis; execute ad-hoc analyses to meet the fast-changing market demands</li><li>Drive analytic product development via conducting statistical analyses on various data sources; and add values to products by innovatively applying the analysis</li><li>Enhance existing solutions and approaches by promoting new methodology and best practices in data science field</li><li>Collaborate with internal and external stakeholders and cross-functional teams</li></ul><strong>Qualifications<br><br></strong><strong><u>Basic Qualifications<br></u></strong><ul><li>2 years of work experience with a Bachelor’s Degree or an Advanced Degree (e.g. Masters, MBA, JD, MD, or PhD)<br></li></ul><strong><u>Preferred Qualifications<br></u></strong><ul><li>Graduate/Post Graduate degree (Master&apos;s or Ph.D.) in quantitative field such as statistics, mathematics, computer science, finance, economics or relevant area.</li><li>Hands-on experience in data science and analytical functions</li><li>Ability to analyze large datasets, extract information, features, anomalies, etc.</li><li>Ability to understand customer/client behavior, apply modeling and machine learning to business problems</li><li>Ability to communicate model outputs, performance internally and externally</li><li>Self-starter, curious, team player in dynamic environments.</li></ul><strong>Additional Information<br><br></strong><strong><u>Travel Requirements<br><br></u></strong>This position requires the incumbent to travel for work up to 5% of the time.<br><br><strong><u>Mental/Physical Requirements<br><br></u></strong>This position will be performed in an office setting. The position will require the incumbent to sit and stand at a desk, communicate in person and by telephone, frequently operate standard office equipment, such as telephones and computers, reach with hands and arms, and bend or lift up to 25 pounds.<br><br><strong><u>EEO Statement<br><br></u></strong>Visa will consider for employment qualified applicants with criminal histories in a manner consistent with EEOC guidelines and applicable local law.<br><br>Job Number: REF35768X',\n",
       "  'employment_type': 'FULL_TIME',\n",
       "  'date_posted': '2021-07-18T18:11:34.000Z'},\n",
       " 'company': {'name': 'Visa', 'link': 'https://www.linkedin.com/company/visa'},\n",
       " 'education': {'required_credential': 'bachelor degree'},\n",
       " 'experience': {'months_of_experience': 24, 'seniority_level': 'NA'},\n",
       " 'salary': {'currency': 'USD',\n",
       "  'min_value': 101000,\n",
       "  'max_value': 156000,\n",
       "  'unit': 'YEAR'},\n",
       " 'location': {'country': 'US',\n",
       "  'locality': 'Foster City',\n",
       "  'region': 'CA',\n",
       "  'postal_code': '94029',\n",
       "  'street_address': None,\n",
       "  'latitude': 37.561882,\n",
       "  'longitude': -122.26644}}"
      ]
     },
     "execution_count": 72,
     "metadata": {},
     "output_type": "execute_result"
    }
   ],
   "source": [
    "transformed_data[0]"
   ]
  },
  {
   "cell_type": "code",
   "execution_count": 73,
   "metadata": {},
   "outputs": [
    {
     "data": {
      "text/plain": [
       "{'job': {'title': 'Data Scientist',\n",
       "  'industry': 'Consumer Services,Financial Services,Information Technology and Services',\n",
       "  'description': '<strong><u>Company Description<br><br></u></strong>As the world&apos;s leader in digital payments technology, Visa&apos;s mission is to connect the world through the most creative, reliable and secure payment network - enabling individuals, businesses, and economies to thrive. Our advanced global processing network, VisaNet, provides secure and reliable payments around the world, and is capable of handling more than 65,000 transaction messages a second. The company&apos;s dedication to innovation drives the rapid growth of connected commerce on any device, and fuels the dream of a cashless future for everyone, everywhere. As the world moves from analog to digital, Visa is applying our brand, products, people, network and scale to reshape the future of commerce.<br><br>At Visa, your individuality fits right in. Working here gives you an opportunity to impact the world, invest in your career growth, and be part of an inclusive and diverse workplace. We are a global team of disruptors, trailblazers, innovators and risk-takers who are helping drive economic growth in even the most remote parts of the world, creatively moving the industry forward, and doing meaningful work that brings financial literacy and digital commerce to millions of unbanked and underserved consumers.<br><br><strong>You&apos;re</strong> an Individual. <strong>We&apos;re</strong> the team for you. <strong>Together</strong>, let&apos;s transform the way the world pays.<br><br><strong><u>Job Description<br><br></u></strong>The fraud and risk management team within CyberSource is responsible for designing and building machine learning models for detecting, preventing and managing fraud in e-commerce payment events. The team collaborates closely with Visa colleagues and other internal stakeholders to provide the advanced and multilayered fraud and risk management solutions to enterprise as well as small-to-midsized businesses.<br><br>We are currently seeking a Data Scientist to support fraud risk modeling projects and drive insights for CyberSource. Ideal candidates for this position will have a very strong background of statistics and machine learning techniques and tools and. In addition, the candidate should have a proactive mindset for innovative researches and a highly collaborative approach to project work.<br><br><strong><u>You Will Work Collaboratively With a Team Composed Of Both Data Scientists And Engineers To<br><br></u></strong>The position will be based at Visa’s office in Foster City, California.<br><ul><li>Build and validate risk models with advanced machine learning techniques</li><li>Support model installations, and monitor and calibrate production models</li><li>Interpret and present modeling and analytical results to all level audience</li><li>Define financial and analytic metrics to measure development and production outcomes and produce performance reports</li><li>Conduct transaction data analyses for internal and external product owners, and develop deeper insights into the products using advanced statistical methods</li><li>Support sales and marketing efforts with sound statistical and financial analysis; execute ad-hoc analyses to meet the fast-changing market demands</li><li>Drive analytic product development via conducting statistical analyses on various data sources; and add values to products by innovatively applying the analysis</li><li>Enhance existing solutions and approaches by promoting new methodology and best practices in data science field</li><li>Collaborate with internal and external stakeholders and cross-functional teams</li></ul><strong>Qualifications<br><br></strong><strong><u>Basic Qualifications<br></u></strong><ul><li>2 years of work experience with a Bachelor’s Degree or an Advanced Degree (e.g. Masters, MBA, JD, MD, or PhD)<br></li></ul><strong><u>Preferred Qualifications<br></u></strong><ul><li>Graduate/Post Graduate degree (Master&apos;s or Ph.D.) in quantitative field such as statistics, mathematics, computer science, finance, economics or relevant area.</li><li>Hands-on experience in data science and analytical functions</li><li>Ability to analyze large datasets, extract information, features, anomalies, etc.</li><li>Ability to understand customer/client behavior, apply modeling and machine learning to business problems</li><li>Ability to communicate model outputs, performance internally and externally</li><li>Self-starter, curious, team player in dynamic environments.</li></ul><strong>Additional Information<br><br></strong><strong><u>Travel Requirements<br><br></u></strong>This position requires the incumbent to travel for work up to 5% of the time.<br><br><strong><u>Mental/Physical Requirements<br><br></u></strong>This position will be performed in an office setting. The position will require the incumbent to sit and stand at a desk, communicate in person and by telephone, frequently operate standard office equipment, such as telephones and computers, reach with hands and arms, and bend or lift up to 25 pounds.<br><br><strong><u>EEO Statement<br><br></u></strong>Visa will consider for employment qualified applicants with criminal histories in a manner consistent with EEOC guidelines and applicable local law.<br><br>Job Number: REF35768X',\n",
       "  'employment_type': 'FULL_TIME',\n",
       "  'date_posted': '2021-07-18T18:11:34.000Z'},\n",
       " 'company': {'name': 'Visa', 'link': 'https://www.linkedin.com/company/visa'},\n",
       " 'education': {'required_credential': 'bachelor degree'},\n",
       " 'experience': {'months_of_experience': 24, 'seniority_level': 'NA'},\n",
       " 'salary': {'currency': 'USD',\n",
       "  'min_value': 101000,\n",
       "  'max_value': 156000,\n",
       "  'unit': 'YEAR'},\n",
       " 'location': {'country': 'US',\n",
       "  'locality': 'Foster City',\n",
       "  'region': 'CA',\n",
       "  'postal_code': '94029',\n",
       "  'street_address': None,\n",
       "  'latitude': 37.561882,\n",
       "  'longitude': -122.26644}}"
      ]
     },
     "execution_count": 73,
     "metadata": {},
     "output_type": "execute_result"
    }
   ],
   "source": [
    "template"
   ]
  },
  {
   "cell_type": "code",
   "execution_count": 74,
   "metadata": {},
   "outputs": [],
   "source": [
    "mapping = {\n",
    "    'job': {\n",
    "        'date_posted': 'datePosted',\n",
    "        'description': 'description',\n",
    "        'employment_type': 'employmentType',\n",
    "        'industry': 'industry',\n",
    "        'title': 'title',\n",
    "    },\n",
    "    'location': {\n",
    "        'country': 'jobLocation.address.addressCountry',\n",
    "        'latitude': 'jobLocation.latitude',\n",
    "        'locality': 'jobLocation.address.addressLocality',\n",
    "        'longitude': 'jobLocation.longitude',\n",
    "        'postal_code': 'jobLocation.address.postalCode',\n",
    "        'region': 'jobLocation.address.addressRegion',\n",
    "        'street_address': 'jobLocation.address.streetAddress',\n",
    "    },\n",
    "    'company': {\n",
    "        'link': 'hiringOrganization.sameAs',\n",
    "        'name': 'hiringOrganization.name',\n",
    "    },\n",
    "    'salary': {\n",
    "        'currency': 'estimatedSalary.currency',\n",
    "        'max_value': 'estimatedSalary.value.maxValue',\n",
    "        'min_value': 'estimatedSalary.value.minValue',\n",
    "        'unit': 'estimatedSalary.value.unitText',\n",
    "    },\n",
    "    'education': {\n",
    "        'required_credential': 'educationRequirements.credentialCategory',\n",
    "    },\n",
    "    'experience': {\n",
    "        'months_of_experience': 'experienceRequirements.monthsOfExperience',\n",
    "        'seniority_level': \"I don't know\",\n",
    "    },\n",
    "}\n",
    "transformed_data = []\n",
    "for data in data_as_json:\n",
    "    template = {\n",
    "        \"job\": {\n",
    "            \"title\": None,\n",
    "            \"industry\": None,\n",
    "            \"description\": None,\n",
    "            \"employment_type\": None,\n",
    "            \"date_posted\": None,\n",
    "        },\n",
    "        \"company\": {\n",
    "            \"name\": None,\n",
    "            \"link\": None,\n",
    "        },\n",
    "        \"education\": {\n",
    "            \"required_credential\": None,\n",
    "        },\n",
    "        \"experience\": {\n",
    "            \"months_of_experience\": None,\n",
    "            \"seniority_level\": None,\n",
    "        },\n",
    "        \"salary\": {\n",
    "            \"currency\": None,\n",
    "            \"min_value\": None,\n",
    "            \"max_value\": None,\n",
    "            \"unit\": None,\n",
    "        },\n",
    "        \"location\": {\n",
    "            \"country\": None,\n",
    "            \"locality\": None,\n",
    "            \"region\": None,\n",
    "            \"postal_code\": None,\n",
    "            \"street_address\": None,\n",
    "            \"latitude\": None,\n",
    "            \"longitude\": None,\n",
    "        },\n",
    "    }\n",
    "    for section, section_mapping in mapping.items():\n",
    "        for key_in_template, key_in_data in section_mapping.items():\n",
    "            keys = key_in_data.split('.')\n",
    "            value = data\n",
    "            for key in keys:\n",
    "                if key in value:\n",
    "                    value = value[key]\n",
    "                else:\n",
    "                    break\n",
    "            else:\n",
    "                template[section][key_in_template] = value\n",
    "    transformed_data.append(template)\n"
   ]
  },
  {
   "cell_type": "code",
   "execution_count": 76,
   "metadata": {},
   "outputs": [
    {
     "data": {
      "text/plain": [
       "{'job': {'title': 'Senior Data Engineer',\n",
       "  'industry': 'Broadcast Media',\n",
       "  'description': \"Job Title: Senior Data Engineer<br>Location: Alexandria, VA<br>Salary Range: $120k - $150k<br>Requirements: ETL/ELT, SQL, AWS/Google Cloud, Linux/Unix, Spark (preferred), NoSQL (preferred), Machine Learning concepts (preferred)<br><br>Based in beautiful Alexandria, VA, we are one of the hottest media analytics and software start-ups in the DC area. Due to growth, we are actively seeking to hire a Senior Data Engineer to join our team. The ideal candidate will have at least 5 years of experience with data pipelines (built with Python), ETL experience, a strong SQL background, experience with AWS or Google Cloud, and strong Unix/Linux fundamentals. Any experience with Spark, NoSQL, and Machine Learning would be a huge plus. If this sounds like you, please apply now or send your resume to shiv.warrier@cybercoders.com!<br><br>What You Will Be Doing<br><ul><li>Lead design and development of data pipelines</li><li>Deliver features on a cadence within an agile framework</li><li>Contribute to the definition of user stories</li><li>Collaborate with other members of the team, including offshore, on development integration</li><li>Write unit tests and maintain high code quality, per both static code analysis team standards</li><li>Be available on a rotating schedule for production issues<br></li></ul>What You Need for this Position<br><br><strong><u>Must-Have<br></u></strong><ul><li>BS in Computer Science or equivalent</li><li>5+ years of experience in software/data engineering</li><li>Expertise in ETL/ELT techniques</li><li>Expertise in SQL</li><li>Experience working with AWS or Google Cloud</li><li>Strong Unix/Linux fundamentals<br></li></ul><strong><u>Nice To Have<br></u></strong><ul><li>Experience with data processing frameworks e.g. Spark</li><li>Experience with NoSQL column-store databases</li><li>Exposure to machine learning concepts<br></li></ul>Exposure to ad tech concepts terminology<br><br>What's In It for You<br><ul><li>Competitive salary with high bonus potential</li><li>Collaborative and creative atmosphere, with inspired leadership</li><li>Career advancement opportunities</li><li>Recognition and reward for outstanding performance</li><li>Great medical, dental; vision Insurance packages</li><li>Competitive 401K with company match to plan for the long term</li><li>Unlimited paid-time-off</li><li>Transportation benefits, cell phone reimbursement</li><li>Casual dress all day, every day<br></li></ul>So, if you are a Senior Data Engineer with experience, please apply today!<br><br><strong><u>Email Your Resume In Word To<br><br></u></strong>Looking forward to receiving your resume through our website and going over the position with you. Clicking apply is the best way to apply, but you may also:<br><br>Shiv.Warrier@CyberCoders.com<br><ul><li>Please do NOT change the email subject line in any way. You must keep the JobID: linkedin : SW3-1634173 -- in the email subject line for your application to be considered.***<br></li></ul>Shiv Warrier - Sr. Executive Recruiter - CyberCoders<br><br>Applicants must be authorized to work in the U.S.<br><br><strong>CyberCoders, Inc is proud to be an Equal Opportunity Employer<br><br></strong>All qualified applicants will receive consideration for employment without regard to race, color, religion, sex, national origin, disability, protected veteran status, or any other characteristic protected by law.<br><br><strong>Your Right to Work</strong> - In compliance with federal law, all persons hired will be required to verify identity and eligibility to work in the United States and to complete the required employment eligibility verification document form upon hire.\",\n",
       "  'employment_type': 'FULL_TIME',\n",
       "  'date_posted': '2021-07-09T17:39:28.000Z'},\n",
       " 'company': {'name': 'CyberCoders',\n",
       "  'link': 'https://www.linkedin.com/company/cybercoders'},\n",
       " 'education': {'required_credential': 'bachelor degree'},\n",
       " 'experience': {'months_of_experience': 60, 'seniority_level': None},\n",
       " 'salary': {'currency': None,\n",
       "  'min_value': None,\n",
       "  'max_value': None,\n",
       "  'unit': None},\n",
       " 'location': {'country': 'US',\n",
       "  'locality': 'Alexandria',\n",
       "  'region': 'VA',\n",
       "  'postal_code': '22336',\n",
       "  'street_address': None,\n",
       "  'latitude': 38.804665,\n",
       "  'longitude': -77.04362}}"
      ]
     },
     "execution_count": 76,
     "metadata": {},
     "output_type": "execute_result"
    }
   ],
   "source": [
    "transformed_data[0]"
   ]
  },
  {
   "cell_type": "code",
   "execution_count": 77,
   "metadata": {},
   "outputs": [
    {
     "data": {
      "text/plain": [
       "7685"
      ]
     },
     "execution_count": 77,
     "metadata": {},
     "output_type": "execute_result"
    }
   ],
   "source": [
    "len(data_as_json)"
   ]
  },
  {
   "cell_type": "code",
   "execution_count": 78,
   "metadata": {},
   "outputs": [
    {
     "data": {
      "text/plain": [
       "7685"
      ]
     },
     "execution_count": 78,
     "metadata": {},
     "output_type": "execute_result"
    }
   ],
   "source": [
    "len(transformed_data)"
   ]
  },
  {
   "cell_type": "code",
   "execution_count": 79,
   "metadata": {},
   "outputs": [
    {
     "data": {
      "text/plain": [
       "{'@context': 'http://schema.org',\n",
       " '@type': 'JobPosting',\n",
       " 'datePosted': '2021-07-09T17:39:28.000Z',\n",
       " 'description': \"Job Title: Senior Data Engineer<br>Location: Alexandria, VA<br>Salary Range: $120k - $150k<br>Requirements: ETL/ELT, SQL, AWS/Google Cloud, Linux/Unix, Spark (preferred), NoSQL (preferred), Machine Learning concepts (preferred)<br><br>Based in beautiful Alexandria, VA, we are one of the hottest media analytics and software start-ups in the DC area. Due to growth, we are actively seeking to hire a Senior Data Engineer to join our team. The ideal candidate will have at least 5 years of experience with data pipelines (built with Python), ETL experience, a strong SQL background, experience with AWS or Google Cloud, and strong Unix/Linux fundamentals. Any experience with Spark, NoSQL, and Machine Learning would be a huge plus. If this sounds like you, please apply now or send your resume to shiv.warrier@cybercoders.com!<br><br>What You Will Be Doing<br><ul><li>Lead design and development of data pipelines</li><li>Deliver features on a cadence within an agile framework</li><li>Contribute to the definition of user stories</li><li>Collaborate with other members of the team, including offshore, on development integration</li><li>Write unit tests and maintain high code quality, per both static code analysis team standards</li><li>Be available on a rotating schedule for production issues<br></li></ul>What You Need for this Position<br><br><strong><u>Must-Have<br></u></strong><ul><li>BS in Computer Science or equivalent</li><li>5+ years of experience in software/data engineering</li><li>Expertise in ETL/ELT techniques</li><li>Expertise in SQL</li><li>Experience working with AWS or Google Cloud</li><li>Strong Unix/Linux fundamentals<br></li></ul><strong><u>Nice To Have<br></u></strong><ul><li>Experience with data processing frameworks e.g. Spark</li><li>Experience with NoSQL column-store databases</li><li>Exposure to machine learning concepts<br></li></ul>Exposure to ad tech concepts terminology<br><br>What's In It for You<br><ul><li>Competitive salary with high bonus potential</li><li>Collaborative and creative atmosphere, with inspired leadership</li><li>Career advancement opportunities</li><li>Recognition and reward for outstanding performance</li><li>Great medical, dental; vision Insurance packages</li><li>Competitive 401K with company match to plan for the long term</li><li>Unlimited paid-time-off</li><li>Transportation benefits, cell phone reimbursement</li><li>Casual dress all day, every day<br></li></ul>So, if you are a Senior Data Engineer with experience, please apply today!<br><br><strong><u>Email Your Resume In Word To<br><br></u></strong>Looking forward to receiving your resume through our website and going over the position with you. Clicking apply is the best way to apply, but you may also:<br><br>Shiv.Warrier@CyberCoders.com<br><ul><li>Please do NOT change the email subject line in any way. You must keep the JobID: linkedin : SW3-1634173 -- in the email subject line for your application to be considered.***<br></li></ul>Shiv Warrier - Sr. Executive Recruiter - CyberCoders<br><br>Applicants must be authorized to work in the U.S.<br><br><strong>CyberCoders, Inc is proud to be an Equal Opportunity Employer<br><br></strong>All qualified applicants will receive consideration for employment without regard to race, color, religion, sex, national origin, disability, protected veteran status, or any other characteristic protected by law.<br><br><strong>Your Right to Work</strong> - In compliance with federal law, all persons hired will be required to verify identity and eligibility to work in the United States and to complete the required employment eligibility verification document form upon hire.\",\n",
       " 'employmentType': 'FULL_TIME',\n",
       " 'hiringOrganization': {'@type': 'Organization',\n",
       "  'name': 'CyberCoders',\n",
       "  'sameAs': 'https://www.linkedin.com/company/cybercoders',\n",
       "  'logo': 'https://media-exp1.licdn.com/dms/image/C560BAQF7t9X4k2P2hA/company-logo_200_200/0/1625157716995?e=1634169600&amp;v=beta&amp;t=_K8f0WdsDJh9IGZza0q9ge6y8lFjO-HPEX9EuNvl5Po'},\n",
       " 'identifier': {'@type': 'PropertyValue',\n",
       "  'name': 'CyberCoders',\n",
       "  'value': 'SW3-163417310'},\n",
       " 'image': 'https://media-exp1.licdn.com/dms/image/C560BAQF7t9X4k2P2hA/company-logo_100_100/0/1625157716995?e=1634169600&v=beta&t=277e1bY2Y6I2oW9ODaH13nJh9sv0a1T0CWCoxap_HGc',\n",
       " 'industry': 'Broadcast Media',\n",
       " 'jobLocation': {'@type': 'Place',\n",
       "  'address': {'@type': 'PostalAddress',\n",
       "   'addressCountry': 'US',\n",
       "   'addressLocality': 'Alexandria',\n",
       "   'addressRegion': 'VA',\n",
       "   'postalCode': '22336',\n",
       "   'streetAddress': None},\n",
       "  'latitude': 38.804665,\n",
       "  'longitude': -77.04362},\n",
       " 'skills': '',\n",
       " 'title': 'Senior Data Engineer',\n",
       " 'validThrough': '2021-08-08T17:39:28.000Z',\n",
       " 'educationRequirements': {'@type': 'EducationalOccupationalCredential',\n",
       "  'credentialCategory': 'bachelor degree'},\n",
       " 'experienceRequirements': {'@type': 'OccupationalExperienceRequirements',\n",
       "  'monthsOfExperience': 60}}"
      ]
     },
     "execution_count": 79,
     "metadata": {},
     "output_type": "execute_result"
    }
   ],
   "source": [
    "data_as_json[0]"
   ]
  },
  {
   "cell_type": "code",
   "execution_count": 80,
   "metadata": {},
   "outputs": [
    {
     "data": {
      "text/plain": [
       "'<p><strong><u>ABOUT US:</u></strong></p><p>As the leader of rehabilitative care, Encompass Health offers both facility-based and home-based patient care through its \\nnational network of rehabilitation hospitals, home health agencies, and hospice agencies that spans 42 states and Puerto Rico. Setting the standard for providing excellent \\ncare, Encompass Health has earned its place among Modern Healthcare’s “Best Places to Work in Healthcare” and the Fortune “World’s Most Admired Companies” for 2021.\\n</p><p><br></p><p><strong><u>POSITION PURPOSE:</u></strong></p><p>The&nbsp;<strong>HRIS Security &amp; Data Maintenance Analyst</strong>&nbsp;plays an integral role in HR \\nSystems security definition and is responsible for defining, setting up, maintaining and accurately documenting security access for all HR systems. The HRIS Security &amp; \\nData Maintenance Analyst also oversees application support including table setup and maintenance, data integrity, and auditing of data. Additionally, this role will assist \\nwith the overall administrative support of existing HR systems including upgrades, conversions, and problem resolution.</p><p><br></p><p><strong><u>RESPONSIBILITES &amp; \\nTASKS:</u></strong></p><p>SECURITY &amp; AUDITS:</p><ul><li>Defines and sets up security roles and permissions for HR Systems.</li><li>Defines and maintains dynamic role \\nand permission assignment for auto provisioning and de-provisioning.</li><li>Creates and maintains a crosswalk that outlines role permissions and assigned titles.</li><li>\\nCreates queries/reports that extract role definitions and permissions for auditing purposes.</li><li>Acts as security administrator by processing access requests to HR \\napplications and systems.</li><li>Ensures appropriate approvals are received for any ad hoc requests.</li><li>Serves as the SME that partners with various business areas to \\nprovide guidance on best practices and current HR security protocols.</li><li>Performs periodic audits of HR system user security/access.</li><li>Validates current company \\nstructure against employee job movement to maintain continuous access accuracy.</li><li>Looks for opportunities to increase efficiencies for common requests.</li><li>Supports \\nemployees/end users with HR system access issues.</li><li>Adheres to department’s SLA for processing requests.</li></ul><p><br></p><p>TABLE MAINTENANCE, UPLOADS &amp; DATA \\nINTEGRITY AUDITS:</p><ul><li>Responsible for mass data uploads, coordinating with HR contacts to ensure accuracy in the process.</li><li>Performs data structure and integrity \\naudits on employee data mass upload requests.</li><li>Seeks to minimize errors and determine impacts to downstream systems/processes, as well as impacts to employees due to \\nrequested changes/movement.</li><li>Updates system fields and tables associated with business changes and operations.</li><li>Maintains tables and security changes within HR \\nSystems.</li><li>Proactively utilizes PeopleSoft Query, OBI Reporting or SQL tools to identify data integrity issues.</li><li>Determines the appropriate approach to ensure \\nemployee and company structure data elements are updated correctly.</li><li>Conducts data audits to identify potential non-compliance. I.e. personal data audits…duplicate \\nNID, DOB out of guidelines.</li><li>Partners with internal audit to research and analyze potential data discrepancies.</li><li>Partners with ITG to implement automated access \\naudit processes.</li><li>Participates in new projects through testing/implementation as it relates to access and security.</li><li>Completes mandatory training and courses \\nrequired by completion date.</li><li>Reports questionable situations, concerns, complaints or harassment immediately.</li><li>Conducts audits of system process completions \\nand reports out to business owners. i.e. Onboarding not complete.</li><li>Administers duplicate processing in ATS and other HR systems.</li><li>Ensures compliance regarding \\nHR information sharing, management, organization, hierarchy determination, retrieval, accessibility, dissemination, sharing, and quality control.\\n</li></ul><p><br></p><p><strong><u>Qualifications:</u></strong></p><p>Minimum Qualifications:</p><ul><li>Bachelor\\'s degree preferred. Associate\\'s degree with 4 years of \\nrelated experience may be substituted for Bachelor\\'s degree.</li><li>Four or more years of experience required in related field (i.e. Human Resources Operations, HRIS, HR \\nTechnology, IT, etc.).</li><li>Strong knowledge of Microsoft Word, Excel, and PowerPoint. Advanced Excel skills preferred. Strong analytic and diagnostic skills as well as \\na data-driven and metrics-driven approach.</li><li>Minimum 3 years of experience with PeopleSoft version 9.2 or higher preferred.</li><li>Experience with workflow analysis, \\nbusiness process analysis, finding improvement areas, and use of business modeling tools.</li><li>Experience with security and auditing processes.</li></ul><p><br></p><p>\\nMachines, Equipment Used:</p><ul><li>General office equipment such as computer/laptop, telephone, copy/fax machine, calculator, scanner, etc.</li><li>Microsoft Office \\nsoftware, to include Outlook, Word, PowerPoint, and Excel.</li></ul><p><br></p><p>Physical Requirements:</p><ul><li>Visual acuity, speech recognition, speech clarity.\\n</li><li>Ability to lift, lower, push, pull, and retrieve objects weighing a minimum of 15 pounds. Reasonable assistance may be requested when lifting, pushing, and/or \\npulling exceeds these minimum requirements.</li></ul><p><br></p><p>Skills and Abilities:</p><ul><li>Oral communication, written communication, fluency in English, active \\nlistening.</li><li>Information ordering, deductive reasoning, social perceptiveness, time management, critical thinking.</li><li>Ability to coordinate, analyze, observe, \\nmake decisions, and meet deadlines in a detail-oriented manner.</li><li>Ability to work independently without continuous supervision.</li><li>Ability to understand and \\nreact quickly to changing priorities.</li><li>Demonstrated accuracy and thoroughness while meeting customer needs in a timely manner.</li></ul><p><br></p><p>Environmental \\nConditions:</p><ul><li>Indoor, temperature controlled, smoke-free environment.</li><li>Handicapped accessible.</li><li>May work under stressful circumstances at times.\\n</li></ul><p><br></p><p>Proficiency or Productivity Standards:</p><ul><li>Has regular, reliable, and predictable attendance and punctuality.</li><li>Adheres to dress code \\nincluding wearing ID badge.</li><li>Adheres to Standards of Business Conduct.</li><li>May be required to work weekdays and/or weekends, evenings and/or night shifts if needed \\nto meet deadlines.</li><li>May be required to work on religious and/or legal holidays on scheduled days/shifts.</li><li>May be required to perform other duties as assigned \\nby supervisor.</li><li>This position will support cultural diversity by promoting and maintaining an inclusive work environment and culture that is respectful and accepting \\nof diversity.</li></ul><p></p>\",\\n '"
      ]
     },
     "execution_count": 80,
     "metadata": {},
     "output_type": "execute_result"
    }
   ],
   "source": [
    "\"\"\"<p><strong><u>ABOUT US:</u></strong></p><p>As the leader of rehabilitative care, Encompass Health offers both facility-based and home-based patient care through its \n",
    "national network of rehabilitation hospitals, home health agencies, and hospice agencies that spans 42 states and Puerto Rico. Setting the standard for providing excellent \n",
    "care, Encompass Health has earned its place among Modern Healthcare’s “Best Places to Work in Healthcare” and the Fortune “World’s Most Admired Companies” for 2021.\n",
    "</p><p><br></p><p><strong><u>POSITION PURPOSE:</u></strong></p><p>The&nbsp;<strong>HRIS Security &amp; Data Maintenance Analyst</strong>&nbsp;plays an integral role in HR \n",
    "Systems security definition and is responsible for defining, setting up, maintaining and accurately documenting security access for all HR systems. The HRIS Security &amp; \n",
    "Data Maintenance Analyst also oversees application support including table setup and maintenance, data integrity, and auditing of data. Additionally, this role will assist \n",
    "with the overall administrative support of existing HR systems including upgrades, conversions, and problem resolution.</p><p><br></p><p><strong><u>RESPONSIBILITES &amp; \n",
    "TASKS:</u></strong></p><p>SECURITY &amp; AUDITS:</p><ul><li>Defines and sets up security roles and permissions for HR Systems.</li><li>Defines and maintains dynamic role \n",
    "and permission assignment for auto provisioning and de-provisioning.</li><li>Creates and maintains a crosswalk that outlines role permissions and assigned titles.</li><li>\n",
    "Creates queries/reports that extract role definitions and permissions for auditing purposes.</li><li>Acts as security administrator by processing access requests to HR \n",
    "applications and systems.</li><li>Ensures appropriate approvals are received for any ad hoc requests.</li><li>Serves as the SME that partners with various business areas to \n",
    "provide guidance on best practices and current HR security protocols.</li><li>Performs periodic audits of HR system user security/access.</li><li>Validates current company \n",
    "structure against employee job movement to maintain continuous access accuracy.</li><li>Looks for opportunities to increase efficiencies for common requests.</li><li>Supports \n",
    "employees/end users with HR system access issues.</li><li>Adheres to department’s SLA for processing requests.</li></ul><p><br></p><p>TABLE MAINTENANCE, UPLOADS &amp; DATA \n",
    "INTEGRITY AUDITS:</p><ul><li>Responsible for mass data uploads, coordinating with HR contacts to ensure accuracy in the process.</li><li>Performs data structure and integrity \n",
    "audits on employee data mass upload requests.</li><li>Seeks to minimize errors and determine impacts to downstream systems/processes, as well as impacts to employees due to \n",
    "requested changes/movement.</li><li>Updates system fields and tables associated with business changes and operations.</li><li>Maintains tables and security changes within HR \n",
    "Systems.</li><li>Proactively utilizes PeopleSoft Query, OBI Reporting or SQL tools to identify data integrity issues.</li><li>Determines the appropriate approach to ensure \n",
    "employee and company structure data elements are updated correctly.</li><li>Conducts data audits to identify potential non-compliance. I.e. personal data audits…duplicate \n",
    "NID, DOB out of guidelines.</li><li>Partners with internal audit to research and analyze potential data discrepancies.</li><li>Partners with ITG to implement automated access \n",
    "audit processes.</li><li>Participates in new projects through testing/implementation as it relates to access and security.</li><li>Completes mandatory training and courses \n",
    "required by completion date.</li><li>Reports questionable situations, concerns, complaints or harassment immediately.</li><li>Conducts audits of system process completions \n",
    "and reports out to business owners. i.e. Onboarding not complete.</li><li>Administers duplicate processing in ATS and other HR systems.</li><li>Ensures compliance regarding \n",
    "HR information sharing, management, organization, hierarchy determination, retrieval, accessibility, dissemination, sharing, and quality control.\n",
    "</li></ul><p><br></p><p><strong><u>Qualifications:</u></strong></p><p>Minimum Qualifications:</p><ul><li>Bachelor's degree preferred. Associate's degree with 4 years of \n",
    "related experience may be substituted for Bachelor's degree.</li><li>Four or more years of experience required in related field (i.e. Human Resources Operations, HRIS, HR \n",
    "Technology, IT, etc.).</li><li>Strong knowledge of Microsoft Word, Excel, and PowerPoint. Advanced Excel skills preferred. Strong analytic and diagnostic skills as well as \n",
    "a data-driven and metrics-driven approach.</li><li>Minimum 3 years of experience with PeopleSoft version 9.2 or higher preferred.</li><li>Experience with workflow analysis, \n",
    "business process analysis, finding improvement areas, and use of business modeling tools.</li><li>Experience with security and auditing processes.</li></ul><p><br></p><p>\n",
    "Machines, Equipment Used:</p><ul><li>General office equipment such as computer/laptop, telephone, copy/fax machine, calculator, scanner, etc.</li><li>Microsoft Office \n",
    "software, to include Outlook, Word, PowerPoint, and Excel.</li></ul><p><br></p><p>Physical Requirements:</p><ul><li>Visual acuity, speech recognition, speech clarity.\n",
    "</li><li>Ability to lift, lower, push, pull, and retrieve objects weighing a minimum of 15 pounds. Reasonable assistance may be requested when lifting, pushing, and/or \n",
    "pulling exceeds these minimum requirements.</li></ul><p><br></p><p>Skills and Abilities:</p><ul><li>Oral communication, written communication, fluency in English, active \n",
    "listening.</li><li>Information ordering, deductive reasoning, social perceptiveness, time management, critical thinking.</li><li>Ability to coordinate, analyze, observe, \n",
    "make decisions, and meet deadlines in a detail-oriented manner.</li><li>Ability to work independently without continuous supervision.</li><li>Ability to understand and \n",
    "react quickly to changing priorities.</li><li>Demonstrated accuracy and thoroughness while meeting customer needs in a timely manner.</li></ul><p><br></p><p>Environmental \n",
    "Conditions:</p><ul><li>Indoor, temperature controlled, smoke-free environment.</li><li>Handicapped accessible.</li><li>May work under stressful circumstances at times.\n",
    "</li></ul><p><br></p><p>Proficiency or Productivity Standards:</p><ul><li>Has regular, reliable, and predictable attendance and punctuality.</li><li>Adheres to dress code \n",
    "including wearing ID badge.</li><li>Adheres to Standards of Business Conduct.</li><li>May be required to work weekdays and/or weekends, evenings and/or night shifts if needed \n",
    "to meet deadlines.</li><li>May be required to work on religious and/or legal holidays on scheduled days/shifts.</li><li>May be required to perform other duties as assigned \n",
    "by supervisor.</li><li>This position will support cultural diversity by promoting and maintaining an inclusive work environment and culture that is respectful and accepting \n",
    "of diversity.</li></ul><p></p>\",\n",
    " \"\"\""
   ]
  },
  {
   "cell_type": "code",
   "execution_count": 81,
   "metadata": {},
   "outputs": [
    {
     "data": {
      "text/plain": [
       "\"Tinder brings people together. With tens of millions of users and a presence in every country on earth, our reach is expansive and rapidly growing.\\n<br><br>The Analytics team powers data-informed decision-making at Tinder. We are looking to add a hardworking, creative Data Scientist to our growing team.\\nAs a Data Scientist on Analytics, you will partner with multiple teams - including Product, Marketing, Engineering, and Finance - to improve our extraordinary platform.\\nYou will use this comprehensive dataset to develop experiments, forecasting models, automated reports, and various exploratory insights to guide our business decisions.\\n<br><br>An effective Data Scientist at Tinder must have a passion and aptitude for turning sophisticated problems into concrete hypotheses that can be answered through \\nthorough data analysis and A/B testing. They must also be able to disseminate their takeaways and recommendations to a variety of partners within our organization via \\npresentations, reports, and dashboards. In this role, your insights will influence both the performance of our business and the experience of our users.<br><br><strong>\\nResponsibilities:<br></strong><li>Be a leader with a point of view for the organization, using data to constantly challenge and reshape our current understanding of \\ncustomer behavior and business performance</li><li>Derive and communicate data-driven recommendations regarding both the prioritization of potential product/marketing\\ninitiatives and performance of current initiatives</li><li>Define and operationalize the detailed tracking of company-wide, team-specific, and product-specific \\nperformance metrics via rollup tables, dashboards, and automated reporting</li><li>Design and analyze experiments to rigorously test a specific hypothesis</li><li>\\nFind the “story” in the data and readily share insights across the organization<br><br></li><strong>Skills Required:<br></strong><li>No formal industry experience is \\nrequired - we are looking for creative, tenacious problem solvers who are passionate about our product and excited to work with our rich, complex dataset</li><li>Ability\\nto develop a nuanced business understanding, testable hypotheses, and meaningful findings from data</li><li>Eagerness to identify and explore new product/marketing \\nopportunities, potential improvements to our data infrastructure, and unanswered questions about customer behavior</li><li>Outstanding written and verbal communication\\nskills, and a willingness to collaborate with business partners</li><li>Comfort using descriptive and inferential statistics</li><li>Experience with SQL and data \\nvisualization tools (e.g. Tableau or Mode) is highly recommended</li><li>Familiarity with scripting languages, machine learning, advanced statistical techniques, \\nand A/B testing is a plus<br><br></li><strong>As part of our team, you’ll enjoy:<br></strong><li> Working on a product that has an immediate impact on people’s \\nlives all around the world</li><li> Collaborating with a team of creative, fun and driven colleagues</li><li> Comprehensive health coverage, competitive salary,\\n401(k) employer match, Employee Stock Purchase Plan (ESPP)</li><li> Other perks and wellness benefits like a fitness membership subsidy, paid concierge medical \\nmembership, pet insurance offerings, and a commuter subsidy</li><li> A robust Learning + Development offering including our MentorMatch program, access to a \\nlibrary of 6,000+ online learning courses through Udemy, and an annual L+D stipend</li><li> Access to mental health resources</li><li> Fertility preservation \\nbenefits</li><li> No Meeting Wednesdays and access to a wide range of product and service discounts through Perkspot</li><li> Charitable donations match up \\nto $15,000 annually</li><li> Monthly and weekly interactive virtual events including Book Club, trivia with prizes and yoga workouts</li><li> The opportunity\\nto join six active Employee Resource Groups (ERGs)<br><br></li>At Tinder, we don’t just accept difference — we celebrate it, we support it, and we thrive \\non it for the benefit of our employees, our product, and our community. We strive to make our workplace an inclusive and diverse environment, giving people \\nfrom all walks of life the opportunity to have a voice. We champion and encourage those who bring different perspectives, ideas, and creativity to join our \\nteam dedicated to bringing people together across the globe. Tinder is proud to be an equal opportunity workplace where we welcome all people regardless of \\nsex, gender identity, race, ethnicity, disability, or other lived experience.',\\n \""
      ]
     },
     "execution_count": 81,
     "metadata": {},
     "output_type": "execute_result"
    }
   ],
   "source": [
    "\"\"\"Tinder brings people together. With tens of millions of users and a presence in every country on earth, our reach is expansive and rapidly growing.\n",
    "<br><br>The Analytics team powers data-informed decision-making at Tinder. We are looking to add a hardworking, creative Data Scientist to our growing team.\n",
    "As a Data Scientist on Analytics, you will partner with multiple teams - including Product, Marketing, Engineering, and Finance - to improve our extraordinary platform.\n",
    "You will use this comprehensive dataset to develop experiments, forecasting models, automated reports, and various exploratory insights to guide our business decisions.\n",
    "<br><br>An effective Data Scientist at Tinder must have a passion and aptitude for turning sophisticated problems into concrete hypotheses that can be answered through \n",
    "thorough data analysis and A/B testing. They must also be able to disseminate their takeaways and recommendations to a variety of partners within our organization via \n",
    "presentations, reports, and dashboards. In this role, your insights will influence both the performance of our business and the experience of our users.<br><br><strong>\n",
    "Responsibilities:<br></strong><li>Be a leader with a point of view for the organization, using data to constantly challenge and reshape our current understanding of \n",
    "customer behavior and business performance</li><li>Derive and communicate data-driven recommendations regarding both the prioritization of potential product/marketing\n",
    "initiatives and performance of current initiatives</li><li>Define and operationalize the detailed tracking of company-wide, team-specific, and product-specific \n",
    "performance metrics via rollup tables, dashboards, and automated reporting</li><li>Design and analyze experiments to rigorously test a specific hypothesis</li><li>\n",
    "Find the “story” in the data and readily share insights across the organization<br><br></li><strong>Skills Required:<br></strong><li>No formal industry experience is \n",
    "required - we are looking for creative, tenacious problem solvers who are passionate about our product and excited to work with our rich, complex dataset</li><li>Ability\n",
    "to develop a nuanced business understanding, testable hypotheses, and meaningful findings from data</li><li>Eagerness to identify and explore new product/marketing \n",
    "opportunities, potential improvements to our data infrastructure, and unanswered questions about customer behavior</li><li>Outstanding written and verbal communication\n",
    "skills, and a willingness to collaborate with business partners</li><li>Comfort using descriptive and inferential statistics</li><li>Experience with SQL and data \n",
    "visualization tools (e.g. Tableau or Mode) is highly recommended</li><li>Familiarity with scripting languages, machine learning, advanced statistical techniques, \n",
    "and A/B testing is a plus<br><br></li><strong>As part of our team, you’ll enjoy:<br></strong><li> Working on a product that has an immediate impact on people’s \n",
    "lives all around the world</li><li> Collaborating with a team of creative, fun and driven colleagues</li><li> Comprehensive health coverage, competitive salary,\n",
    "401(k) employer match, Employee Stock Purchase Plan (ESPP)</li><li> Other perks and wellness benefits like a fitness membership subsidy, paid concierge medical \n",
    "membership, pet insurance offerings, and a commuter subsidy</li><li> A robust Learning + Development offering including our MentorMatch program, access to a \n",
    "library of 6,000+ online learning courses through Udemy, and an annual L+D stipend</li><li> Access to mental health resources</li><li> Fertility preservation \n",
    "benefits</li><li> No Meeting Wednesdays and access to a wide range of product and service discounts through Perkspot</li><li> Charitable donations match up \n",
    "to $15,000 annually</li><li> Monthly and weekly interactive virtual events including Book Club, trivia with prizes and yoga workouts</li><li> The opportunity\n",
    "to join six active Employee Resource Groups (ERGs)<br><br></li>At Tinder, we don’t just accept difference — we celebrate it, we support it, and we thrive \n",
    "on it for the benefit of our employees, our product, and our community. We strive to make our workplace an inclusive and diverse environment, giving people \n",
    "from all walks of life the opportunity to have a voice. We champion and encourage those who bring different perspectives, ideas, and creativity to join our \n",
    "team dedicated to bringing people together across the globe. Tinder is proud to be an equal opportunity workplace where we welcome all people regardless of \n",
    "sex, gender identity, race, ethnicity, disability, or other lived experience.',\n",
    " \"\"\""
   ]
  },
  {
   "cell_type": "code",
   "execution_count": 82,
   "metadata": {},
   "outputs": [
    {
     "data": {
      "text/plain": [
       "{'@context': 'http://schema.org',\n",
       " '@type': 'JobPosting',\n",
       " 'datePosted': '2021-07-02T15:14:42.000Z',\n",
       " 'description': '<p>Hi,</p><p>&nbsp;</p><p>Hope you are doing well,&nbsp;&nbsp;&nbsp;&nbsp;&nbsp;&nbsp;&nbsp;&nbsp;&nbsp;&nbsp;&nbsp;&nbsp;&nbsp;&nbsp;&nbsp;&nbsp;&nbsp;&nbsp;&nbsp;&nbsp;&nbsp;&nbsp;&nbsp;&nbsp;&nbsp;&nbsp;&nbsp;&nbsp;&nbsp;&nbsp;&nbsp;&nbsp;&nbsp;&nbsp;&nbsp;&nbsp;&nbsp;</p><p>&nbsp;</p><p>Our client is hiring for <strong>Data Engineer</strong> candidate for <strong>Seattle, WA or Burbank/Glendale/Anaheim, CA (Remote Start)</strong> location<strong>. </strong>Please review the below job description and share your updated resume, if you are available and interested in a long term contract role.</p><p><strong>&nbsp;</strong></p><p><strong>Position:&nbsp;&nbsp;&nbsp;&nbsp;&nbsp;&nbsp;&nbsp;Data Engineer</strong></p><p><strong>Location:&nbsp;&nbsp;&nbsp;&nbsp;&nbsp;&nbsp;Seattle, WA or Burbank/Glendale/Anaheim CA (Remote Start)</strong></p><p><strong>Duration:&nbsp;&nbsp;&nbsp;&nbsp;&nbsp;&nbsp;05+ months of contract to Hire </strong></p><p>&nbsp;</p><p><strong>Job Description:</strong></p><p><strong>Minimum Qualifications</strong></p><p> • Expertise with SQL, data analysis, and reporting.</p><p> • Strong ability to organize, analyze, and disseminate information.</p><p> • Experience driving and completing projects through technical leadership in a complex, matrixed organization.</p><p> • Experience translating business needs into technical system requirements.</p><p> • Proactively identify and solve data issues with attention to detail.</p><p> • Experience working with multiple disparate, complex, large datasets.</p><p> • Eagerness to adapt and learn.</p><p> • Cloud data technologies</p><p> <strong>Preferred Qualifications</strong></p><p> • Experience writing software in Python.</p><p> • Experience with PYSPARK, Pandas or equivalent data platform.</p><p> • Proven experience in keeping up with emerging technologies.</p><p> • Knowledge and familiarity with data visualization and presentation tools and strategies.</p><p> • Understanding of data sovereignty and data localization and how they impact implementation for data processing, aggregation, analysis and presentation.</p><p> • Azure</p><p> • Databricks</p><p><br></p><p>Thanks,</p><p><strong>Ankit Bhardwaj</strong></p><p>Lead Recruiter</p><p><strong>apolis</strong></p><p>Direct (310) 929 2354 </p><p>Cell (847) 469-3602</p><p><strong>www.apolisrises.com</strong></p><p>linkedin.com/in/ankit-bhardwaj-463b7454</p>',\n",
       " 'employmentType': 'CONTRACTOR',\n",
       " 'hiringOrganization': {'@type': 'Organization',\n",
       "  'name': 'Apolis',\n",
       "  'sameAs': 'https://www.linkedin.com/company/apolisrises',\n",
       "  'logo': 'https://media-exp3.licdn.com/dms/image/C510BAQG1DXe1vqhFKg/company-logo_200_200/0/1539797864143?e=1634774400&amp;v=beta&amp;t=MIN8japDBXF0Wyy98MZ7FJ3w42gy_7kgMXZFUlDUilo'},\n",
       " 'identifier': {'@type': 'PropertyValue', 'name': 'Apolis'},\n",
       " 'image': 'https://media-exp3.licdn.com/dms/image/C510BAQG1DXe1vqhFKg/company-logo_100_100/0/1539797864143?e=1634774400&v=beta&t=QAfLrCgbjMDfgrg8cgahEluFTzwLK4y51h5w1xbpdUY',\n",
       " 'industry': '',\n",
       " 'jobLocation': {'@type': 'Place',\n",
       "  'address': {'@type': 'PostalAddress',\n",
       "   'addressCountry': 'US',\n",
       "   'addressLocality': 'Seattle',\n",
       "   'addressRegion': 'WA',\n",
       "   'postalCode': '98133',\n",
       "   'streetAddress': None},\n",
       "  'latitude': 47.60323,\n",
       "  'longitude': -122.33028},\n",
       " 'skills': '',\n",
       " 'title': 'Data Engineer ',\n",
       " 'validThrough': '2021-08-01T15:14:42.000Z',\n",
       " 'educationRequirements': {'@type': 'EducationalOccupationalCredential',\n",
       "  'credentialCategory': 'bachelor degree'},\n",
       " 'experienceRequirements': {'@type': 'OccupationalExperienceRequirements',\n",
       "  'monthsOfExperience': 72}}"
      ]
     },
     "execution_count": 82,
     "metadata": {},
     "output_type": "execute_result"
    }
   ],
   "source": [
    "data_as_json[15]"
   ]
  },
  {
   "cell_type": "code",
   "execution_count": 83,
   "metadata": {},
   "outputs": [
    {
     "data": {
      "text/plain": [
       "{'@context': 'http://schema.org',\n",
       " '@type': 'JobPosting',\n",
       " 'datePosted': '2021-07-21T01:46:47.000Z',\n",
       " 'description': '<strong><u>Summary<br><br></u></strong>Provides and/or facilitates the planning, analysis, design, development, implementation, and maintenance of software applications.<br><br><strong>DUTIES<br></strong><ul><li>Participate in the backlog identification and refinement for new and/or existing systems.</li><li>Work with other Application Development team members to estimate, plan and schedule tasks to meet assigned target dates. </li><li>Document new and existing systems, develop workflows, and create other supporting documents in adherence to all departmental and corporate standards.</li><li>Obtain approvals and consult with production control as needed to prepare programs/systems for implementation; correspond with clients to implement operations programs/enhancements and identify/resolve problems.</li><li>Review completed code, documentation and other deliverables to ensure that they meet specifications and requirements based on defined expectations.</li><li>Learn, use and enhance the delivery of systems, using Agile Software Engineering and DevOps practices.</li></ul> <strong>REQUIREMENTS<br></strong><ul><li>Bachelor’s degree in Business, Computer Science, Engineering or related field.</li><li>Minimum 3 years application development experience.</li><li>Insurance or financial services industry experience is a plus.</li><li>Demonstrated successful experience and knowledge in the Microsoft .NET platform including one or more of the following .NET, .NET Core, MVC, Web Forms, C#</li><li>Demonstrated successful experience and knowledge in one or more source control systems such as: Azure DevOps, Git, TFS.</li><li>Demonstrated successful experience and knowledge of one or more database management systems, such as: Microsoft SQL Server or Oracle.</li><li>Demonstrated successful experience and knowledge of web services frameworks (development or consumption), such as: REST or SOAP.</li><li>Demonstrated successful experience and knowledge of unit and functional testing frameworks, such as: MSTest, XUnit, NUnit, Cucumber or Selenium.</li><li>Demonstrated working knowledge of object-oriented analysis and development (OOAD), data structures and relational database concepts.</li><li>Demonstrated successful experience in one or more development methodologies, preferably those that support Agile software development.</li><li>Demonstrated working knowledge of data structure and database concepts and practices.</li><li>Proficient computer skills required including Microsoft Office Suite.</li><li>Demonstrated successful ability to build positive relationships and partnerships within department, across the organization and with external customers.</li><li>Excellent organizational skills and ability to function in a fast paced, highly visible, and changing environment.</li><li>Excellent verbal and written communication skills with the ability to interact with internal and external customers.<br></li></ul>#.netcore #.net',\n",
       " 'employmentType': 'FULL_TIME',\n",
       " 'hiringOrganization': {'@type': 'Organization',\n",
       "  'name': 'Root Seven',\n",
       "  'sameAs': 'https://www.linkedin.com/company/recruiting-information-technology',\n",
       "  'logo': 'https://media-exp1.licdn.com/dms/image/C4E0BAQGBcxesNPXbWQ/company-logo_200_200/0/1571230560961?e=1634774400&amp;v=beta&amp;t=S9dQAn0qIHQn9Y1X0OGYltFd7NtTRegi7iriy-6JR6g'},\n",
       " 'identifier': {'@type': 'PropertyValue',\n",
       "  'name': 'Root Seven',\n",
       "  'value': '32229'},\n",
       " 'image': 'https://media-exp1.licdn.com/dms/image/C4E0BAQGBcxesNPXbWQ/company-logo_100_100/0/1571230560961?e=1634774400&v=beta&t=MAJ1WA1HFKSx1r0wg1jWvQ9iZfDy_e_aL80rYQpRIic',\n",
       " 'industry': 'Information Technology and Services,Computer Software,Computer & Network Security',\n",
       " 'jobLocation': {'@type': 'Place',\n",
       "  'address': {'@type': 'PostalAddress',\n",
       "   'addressCountry': 'US',\n",
       "   'addressLocality': 'Farmington Hills',\n",
       "   'addressRegion': 'MI',\n",
       "   'postalCode': '48321',\n",
       "   'streetAddress': None},\n",
       "  'latitude': 42.484673,\n",
       "  'longitude': -83.35918},\n",
       " 'skills': '',\n",
       " 'title': 'C#/.Net Developer (Full Stack)',\n",
       " 'validThrough': '2021-08-20T01:46:47.000Z',\n",
       " 'educationRequirements': {'@type': 'EducationalOccupationalCredential',\n",
       "  'credentialCategory': 'bachelor degree'},\n",
       " 'experienceRequirements': {'@type': 'OccupationalExperienceRequirements',\n",
       "  'monthsOfExperience': 36},\n",
       " 'estimatedSalary': {'@type': 'MonetaryAmount',\n",
       "  'currency': 'USD',\n",
       "  'value': {'@type': 'QuantitativeValue',\n",
       "   'minValue': 62800,\n",
       "   'maxValue': 110000,\n",
       "   'unitText': 'YEAR'}}}"
      ]
     },
     "execution_count": 83,
     "metadata": {},
     "output_type": "execute_result"
    }
   ],
   "source": [
    "data_as_json[200]"
   ]
  },
  {
   "cell_type": "code",
   "execution_count": 84,
   "metadata": {},
   "outputs": [
    {
     "data": {
      "text/plain": [
       "{'@context': 'http://schema.org',\n",
       " '@type': 'JobPosting',\n",
       " 'datePosted': '2021-07-19T22:01:55.000Z',\n",
       " 'description': \"<strong><u>Our Company<br><br></u></strong>Changing the world through digital experiences is what Adobe’s all about. We give everyone—from emerging artists to global brands—everything they need to design and deliver exceptional digital experiences! We’re passionate about empowering people to create beautiful and powerful images, videos, and apps, and transform how companies interact with customers across every screen.<br><br>We’re on a mission to hire the very best and are committed to creating exceptional employee experiences where everyone is respected and has access to equal opportunity. We realize that new ideas can come from everywhere in the organization, and we know the next big idea could be yours!<br><br><strong>The Opportunity <br><br></strong>Adobe is looking for a Machine Learning Engineer who will apply AI and machine learning techniques to big-data problems to help Adobe better understand, lead and optimize the experience of its customers. Partnering with the business units, the candidate will be building various products that address challenging business problems through our customers’ full lifecycle, from customer analytics to marketing media optimization.<br><br>By using predictive models, experimental design methods, and optimization techniques, the candidate will be working on the research and development of exciting projects like real-time online media optimization, sales operation analytics, customer churn scoring and management, customer understanding, product recommendation and customer lifetime value prediction.<br><br>Ideal candidates will have a strong academic background as well as technical skills including applied statistics, machine learning, data mining, and software development. Familiarity working with large-scale datasets and big data techniques would be a plus.<br><br><strong><u>What You'll Do<br></u></strong><ul><li>Develop predictive models on large-scale datasets to address various business problems with advanced statistical modeling, machine learning, and analytics techniques.</li><li>Develop and implement scalable and efficient modeling algorithms that can work with large-scale data in production systems</li><li>Collaborate with product management and engineering groups to develop new products and features.<br><br></li></ul><strong><u>What You Need To Succeed<br></u></strong><ul><li>PhD or MS degree in Computer Science, Statistics, Electrical Engineering, Applied Math, Operations Research, Econometrics, or other related fields.</li><li>Deep understanding of statistical modeling, machine learning, deep learning, or data mining concepts, and a track record of solving problems with these methods.</li><li>Proficient in one or more programming languages such as Python, Java and C</li><li>Familiar with one or more machine learning or statistical modeling tools such as R, Matlab and scikit learn</li><li>Knowledge and experience of working with relational databases and SQL</li><li>Strong analytical and quantitative problem solving ability.</li><li>Excellent communication, relationship skills and a strong team player.<br><br></li></ul><strong><u>Preferred Qualifications<br></u></strong><ul><li>Experience with big data techniques (such as Hadoop, MapReduce, Spark)</li><li>Knowledge of deep learning, experimental design, ANOVA, statistical inference, and multivariate testing</li><li>Knowledge of numerical or combinatorial optimization<br><br></li></ul>\",\n",
       " 'employmentType': 'FULL_TIME',\n",
       " 'hiringOrganization': {'@type': 'Organization',\n",
       "  'name': 'Adobe',\n",
       "  'sameAs': 'https://www.linkedin.com/company/adobe',\n",
       "  'logo': 'https://media-exp1.licdn.com/dms/image/C560BAQFrtK-ioO1rsQ/company-logo_200_200/0/1590681827578?e=1634774400&amp;v=beta&amp;t=7tI4HmBirDnhvqMBuraaaRqGHAMcNzE80awjgR6RoTo'},\n",
       " 'identifier': {'@type': 'PropertyValue',\n",
       "  'name': 'Adobe',\n",
       "  'value': '9cf79b9642b8d70e79c3b98162ebf0aa'},\n",
       " 'image': 'https://media-exp1.licdn.com/dms/image/C560BAQFrtK-ioO1rsQ/company-logo_100_100/0/1590681827578?e=1634774400&v=beta&t=-9nLM1_HYXUVn8GiyzHqLQPP8sFhEknEPUQSnrz0Pqk',\n",
       " 'industry': 'Marketing and Advertising,Information Technology and Services,Computer Software',\n",
       " 'jobLocation': {'@type': 'Place',\n",
       "  'address': {'@type': 'PostalAddress',\n",
       "   'addressCountry': 'US',\n",
       "   'addressLocality': 'San Jose',\n",
       "   'addressRegion': 'CA',\n",
       "   'postalCode': '95148',\n",
       "   'streetAddress': None},\n",
       "  'latitude': 37.334793,\n",
       "  'longitude': -121.888145},\n",
       " 'skills': '',\n",
       " 'title': 'Machine Learning Engineer 4',\n",
       " 'validThrough': '2021-08-18T22:01:54.000Z',\n",
       " 'educationRequirements': {'@type': 'EducationalOccupationalCredential',\n",
       "  'credentialCategory': 'bachelor degree'}}"
      ]
     },
     "execution_count": 84,
     "metadata": {},
     "output_type": "execute_result"
    }
   ],
   "source": [
    "data_as_json[300]"
   ]
  },
  {
   "cell_type": "markdown",
   "metadata": {},
   "source": [
    "I think we can extract from the description skills , and we can add it to the template ! \n",
    "\n",
    "but How , we can interact with an LLM to do that ! Let's try it and see"
   ]
  },
  {
   "cell_type": "code",
   "execution_count": 96,
   "metadata": {},
   "outputs": [
    {
     "data": {
      "text/plain": [
       "{'job': {'title': 'Senior Data Engineer',\n",
       "  'industry': 'Broadcast Media',\n",
       "  'description': \"Job Title: Senior Data Engineer<br>Location: Alexandria, VA<br>Salary Range: $120k - $150k<br>Requirements: ETL/ELT, SQL, AWS/Google Cloud, Linux/Unix, Spark (preferred), NoSQL (preferred), Machine Learning concepts (preferred)<br><br>Based in beautiful Alexandria, VA, we are one of the hottest media analytics and software start-ups in the DC area. Due to growth, we are actively seeking to hire a Senior Data Engineer to join our team. The ideal candidate will have at least 5 years of experience with data pipelines (built with Python), ETL experience, a strong SQL background, experience with AWS or Google Cloud, and strong Unix/Linux fundamentals. Any experience with Spark, NoSQL, and Machine Learning would be a huge plus. If this sounds like you, please apply now or send your resume to shiv.warrier@cybercoders.com!<br><br>What You Will Be Doing<br><ul><li>Lead design and development of data pipelines</li><li>Deliver features on a cadence within an agile framework</li><li>Contribute to the definition of user stories</li><li>Collaborate with other members of the team, including offshore, on development integration</li><li>Write unit tests and maintain high code quality, per both static code analysis team standards</li><li>Be available on a rotating schedule for production issues<br></li></ul>What You Need for this Position<br><br><strong><u>Must-Have<br></u></strong><ul><li>BS in Computer Science or equivalent</li><li>5+ years of experience in software/data engineering</li><li>Expertise in ETL/ELT techniques</li><li>Expertise in SQL</li><li>Experience working with AWS or Google Cloud</li><li>Strong Unix/Linux fundamentals<br></li></ul><strong><u>Nice To Have<br></u></strong><ul><li>Experience with data processing frameworks e.g. Spark</li><li>Experience with NoSQL column-store databases</li><li>Exposure to machine learning concepts<br></li></ul>Exposure to ad tech concepts terminology<br><br>What's In It for You<br><ul><li>Competitive salary with high bonus potential</li><li>Collaborative and creative atmosphere, with inspired leadership</li><li>Career advancement opportunities</li><li>Recognition and reward for outstanding performance</li><li>Great medical, dental; vision Insurance packages</li><li>Competitive 401K with company match to plan for the long term</li><li>Unlimited paid-time-off</li><li>Transportation benefits, cell phone reimbursement</li><li>Casual dress all day, every day<br></li></ul>So, if you are a Senior Data Engineer with experience, please apply today!<br><br><strong><u>Email Your Resume In Word To<br><br></u></strong>Looking forward to receiving your resume through our website and going over the position with you. Clicking apply is the best way to apply, but you may also:<br><br>Shiv.Warrier@CyberCoders.com<br><ul><li>Please do NOT change the email subject line in any way. You must keep the JobID: linkedin : SW3-1634173 -- in the email subject line for your application to be considered.***<br></li></ul>Shiv Warrier - Sr. Executive Recruiter - CyberCoders<br><br>Applicants must be authorized to work in the U.S.<br><br><strong>CyberCoders, Inc is proud to be an Equal Opportunity Employer<br><br></strong>All qualified applicants will receive consideration for employment without regard to race, color, religion, sex, national origin, disability, protected veteran status, or any other characteristic protected by law.<br><br><strong>Your Right to Work</strong> - In compliance with federal law, all persons hired will be required to verify identity and eligibility to work in the United States and to complete the required employment eligibility verification document form upon hire.\",\n",
       "  'employment_type': 'FULL_TIME',\n",
       "  'date_posted': '2021-07-09T17:39:28.000Z'},\n",
       " 'company': {'name': 'CyberCoders',\n",
       "  'link': 'https://www.linkedin.com/company/cybercoders'},\n",
       " 'education': {'required_credential': 'bachelor degree'},\n",
       " 'experience': {'months_of_experience': 60, 'seniority_level': None},\n",
       " 'salary': {'currency': None,\n",
       "  'min_value': None,\n",
       "  'max_value': None,\n",
       "  'unit': None},\n",
       " 'location': {'country': 'US',\n",
       "  'locality': 'Alexandria',\n",
       "  'region': 'VA',\n",
       "  'postal_code': '22336',\n",
       "  'street_address': None,\n",
       "  'latitude': 38.804665,\n",
       "  'longitude': -77.04362}}"
      ]
     },
     "execution_count": 96,
     "metadata": {},
     "output_type": "execute_result"
    }
   ],
   "source": [
    "transformed_data[0]"
   ]
  },
  {
   "cell_type": "code",
   "execution_count": 95,
   "metadata": {},
   "outputs": [
    {
     "name": "stdout",
     "output_type": "stream",
     "text": [
      "CSV file '/mnt/c/Users/dell/Downloads/Tech-Projects-Portfolio/Data-Internship-Home-Assignment/my/extract/llm.csv' has been created.\n"
     ]
    }
   ],
   "source": [
    "import csv\n",
    "\n",
    "\n",
    "# Extracted information\n",
    "job_info = sample_data['job']\n",
    "company_info = sample_data['company']\n",
    "education_info = sample_data['education']\n",
    "experience_info = sample_data['experience']\n",
    "salary_info = sample_data['salary']\n",
    "location_info = sample_data['location']\n",
    "\n",
    "# Save as JSON\n",
    "json_data = {\n",
    "    'job': job_info,\n",
    "    'company': company_info,\n",
    "    'education': education_info,\n",
    "    'experience': experience_info,\n",
    "    'salary': salary_info,\n",
    "    'location': location_info\n",
    "}\n",
    "\n",
    "with open('output.json', 'w') as json_file:\n",
    "    json.dump(json_data, json_file, indent=4)\n",
    "\n",
    "# Save as CSV\n",
    "csv_data = [job_info, company_info, education_info, experience_info, salary_info, location_info]\n",
    "csv_keys = max((d.keys() for d in csv_data), key=len)\n",
    "\n",
    "with open('output.csv', 'w', newline='') as csv_file:\n",
    "    writer = csv.DictWriter(csv_file, fieldnames=csv_keys)\n",
    "    writer.writeheader()\n",
    "    writer.writerows(csv_data)"
   ]
  },
  {
   "cell_type": "code",
   "execution_count": 85,
   "metadata": {},
   "outputs": [],
   "source": [
    "template = {\n",
    "            \"job\": {\n",
    "                \"title\": \"None\",\n",
    "                \"industry\": \"None\",\n",
    "                \"description\": \"None\",\n",
    "                \"employment_type\": \"None\",\n",
    "                \"date_posted\": \"None\",\n",
    "            },\n",
    "            \"company\": {\n",
    "                \"name\": \"None\",\n",
    "                \"link\": \"None\",\n",
    "            },\n",
    "            \"education\": {\n",
    "                \"required_credential\": \"None\",\n",
    "            },\n",
    "            \"experience\": {\n",
    "                \"months_of_experience\": \"None\",\n",
    "                \"seniority_level\": \"None\",\n",
    "            },\n",
    "            \"salary\": {\n",
    "                \"currency\": \"None\",\n",
    "                \"min_value\": \"None\",\n",
    "                \"max_value\": \"None\",\n",
    "                \"unit\": \"None\",\n",
    "            },\n",
    "            \"location\": {\n",
    "                \"country\": \"None\",\n",
    "                \"locality\": \"None\",\n",
    "                \"region\": \"None\",\n",
    "                \"postal_code\": \"None\",\n",
    "                \"street_address\": \"None\",\n",
    "                \"latitude\": \"None\",\n",
    "                \"longitude\": \"None\",\n",
    "            },\n",
    "        }"
   ]
  },
  {
   "cell_type": "code",
   "execution_count": 86,
   "metadata": {},
   "outputs": [],
   "source": [
    "columns = template.keys()"
   ]
  },
  {
   "cell_type": "code",
   "execution_count": 87,
   "metadata": {},
   "outputs": [
    {
     "name": "stdout",
     "output_type": "stream",
     "text": [
      "INSERT INTO job (title, industry, description, employment_type, date_posted) VALUES ('None', 'None', 'None', 'None', 'None');\n",
      "INSERT INTO company (name, link) VALUES ('None', 'None');\n",
      "INSERT INTO education (required_credential) VALUES ('None');\n",
      "INSERT INTO experience (months_of_experience, seniority_level) VALUES ('None', 'None');\n",
      "INSERT INTO salary (currency, min_value, max_value, unit) VALUES ('None', 'None', 'None', 'None');\n",
      "INSERT INTO location (country, locality, region, postal_code, street_address, latitude, longitude) VALUES ('None', 'None', 'None', 'None', 'None', 'None', 'None');\n"
     ]
    }
   ],
   "source": [
    "for col in columns:\n",
    "    feilds = list(template[col].keys())\n",
    "    values = ', '.join([f\"'{template[col][feild]}'\" for feild in feilds])\n",
    "    feilds = ', '.join(feilds)\n",
    "\n",
    "    print(f\"INSERT INTO {col} ({feilds}) VALUES ({values});\")\n"
   ]
  },
  {
   "cell_type": "code",
   "execution_count": null,
   "metadata": {},
   "outputs": [],
   "source": []
  }
 ],
 "metadata": {
  "kernelspec": {
   "display_name": "venv",
   "language": "python",
   "name": "python3"
  },
  "language_info": {
   "codemirror_mode": {
    "name": "ipython",
    "version": 3
   },
   "file_extension": ".py",
   "mimetype": "text/x-python",
   "name": "python",
   "nbconvert_exporter": "python",
   "pygments_lexer": "ipython3",
   "version": "3.10.6"
  }
 },
 "nbformat": 4,
 "nbformat_minor": 2
}
